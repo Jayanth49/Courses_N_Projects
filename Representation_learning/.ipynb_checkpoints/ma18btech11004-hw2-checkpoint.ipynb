{
 "cells": [
  {
   "cell_type": "code",
   "execution_count": 41,
   "metadata": {},
   "outputs": [],
   "source": [
    "import struct\n",
    "import numpy as np\n",
    "import matplotlib.pyplot as plt\n",
    "import tensorflow as tf\n",
    "from tensorflow.examples.tutorials.mnist import input_data\n",
    "from skimage.transform import downscale_local_mean\n",
    "from tensorflow.contrib.slim import fully_connected as fc\n",
    "np.random.seed(42)"
   ]
  },
  {
   "cell_type": "code",
   "execution_count": 2,
   "metadata": {},
   "outputs": [],
   "source": [
    "def sigmoid(z):\n",
    "    return 1/(1+np.exp(-z))"
   ]
  },
  {
   "cell_type": "code",
   "execution_count": 3,
   "metadata": {},
   "outputs": [],
   "source": [
    "def feedforward(X,W1,W2,b1,b2):\n",
    "    a1 = sigmoid(np.dot(W1, X) + b1) \n",
    "    a2 = sigmoid(np.dot(W2, a1) + b2) \n",
    "#     print(a1.shape)\n",
    "    return X,a1,a2\n",
    "\n",
    "def back_prop(X,y,a1,a2,W2):\n",
    "    dz2 = a2-y\n",
    "    dw2 = np.dot(dz2,np.transpose(a1))\n",
    "    \n",
    "    dz1 = np.multiply(np.dot(np.transpose(W2),dz2),a1 * (1-a1))\n",
    "    dw1 = np.dot(dz1,np.transpose(X))\n",
    "    \n",
    "    db1 = np.sum(dz1,axis = 1,keepdims = True)\n",
    "    db2 = np.sum(dz2,axis = 1,keepdims = True)\n",
    "    \n",
    "    dw1 = dw1/X.shape[1]\n",
    "    dw2 = dw2/X.shape[1]\n",
    "    \n",
    "    db1 = db1/X.shape[1]\n",
    "    db2 = db2/X.shape[1]\n",
    "    \n",
    "    \n",
    "    return dw1,dw2,db1,db2\n",
    "    "
   ]
  },
  {
   "cell_type": "markdown",
   "metadata": {},
   "source": [
    "### Can change learning rate,maximum iterations."
   ]
  },
  {
   "cell_type": "code",
   "execution_count": 4,
   "metadata": {},
   "outputs": [],
   "source": [
    "np.random.seed(42)\n",
    "def NN(X,y,number_of_input_nodes = 2,number_of_hidden_nodes = 2,number_of_output_nodes = 1,learning_rate = 0.09,max_iters = 20000):\n",
    "    W1 = np.random.normal(0,1,size=(number_of_hidden_nodes,number_of_input_nodes))\n",
    "    W2 = np.random.normal(0,1,size=(number_of_output_nodes,number_of_hidden_nodes))\n",
    "    \n",
    "    b1 = np.random.normal(0,1,size=(number_of_hidden_nodes,1))\n",
    "    b2 = np.random.normal(0,1,size=(number_of_output_nodes,1))\n",
    "    \n",
    "    cost_list = []\n",
    "    \n",
    "    for i in range(max_iters):\n",
    "        \n",
    "        # Forward\n",
    "        a0,a1,a2 = feedforward(X,W1,W2,b1,b2)\n",
    "        # Backprop\n",
    "        dw1,dw2,db1,db2 = back_prop(X,y,a1,a2,W2)\n",
    "        \n",
    "        #Cost\n",
    "        classify_loss = np.multiply(y,np.log(a2)) + np.multiply((1-y),np.log(1 - a2))\n",
    "        cost = -np.sum(classify_loss)/X.shape[1]\n",
    "        \n",
    "        #update\n",
    "        W1 = W1 - learning_rate*dw1\n",
    "        W2 = W2 - learning_rate*dw2\n",
    "        b1 = b1 - learning_rate*db1\n",
    "        b2 = b2 - learning_rate*db2\n",
    "        \n",
    "        cost_list.append(cost)\n",
    "    return W1,W2,b1,b2,cost_list"
   ]
  },
  {
   "cell_type": "code",
   "execution_count": 5,
   "metadata": {},
   "outputs": [],
   "source": [
    "# Function adds noise to data\n",
    "def input_with_noise(X):\n",
    "    noise = s = np.random.normal(0, 1, 1)\n",
    "    return X+noise"
   ]
  },
  {
   "cell_type": "code",
   "execution_count": 6,
   "metadata": {},
   "outputs": [],
   "source": [
    "# Xor\n",
    "\n",
    "# Function to generate data\n",
    "def generate_data_Xor(N ,Best_data = False):\n",
    "    X = np.array([[0, 0, 1, 1], [0, 1, 0, 1]])\n",
    "    Y = np.array([[0, 1, 1, 0]]) \n",
    "    \n",
    "    if Best_data:\n",
    "        idx = np.arange(N)%4\n",
    "    else:\n",
    "        idx = np.random.randint(4, size=N)\n",
    "    return X.T[idx,:].T,Y[0][idx]"
   ]
  },
  {
   "cell_type": "markdown",
   "metadata": {},
   "source": [
    "### Tune max_iters"
   ]
  },
  {
   "cell_type": "code",
   "execution_count": 7,
   "metadata": {},
   "outputs": [
    {
     "data": {
      "text/plain": [
       "Text(0.5, 1.0, 'Cost Function')"
      ]
     },
     "execution_count": 7,
     "metadata": {},
     "output_type": "execute_result"
    },
    {
     "data": {
      "image/png": "[encoded data removed]",
      "text/plain": [
       "<Figure size 432x288 with 1 Axes>"
      ]
     },
     "metadata": {
      "needs_background": "light"
     },
     "output_type": "display_data"
    }
   ],
   "source": [
    "# Set Layer structure\n",
    "number_of_input_nodes = 2\n",
    "number_of_hidden_nodes = 2\n",
    "number_of_output_nodes = 1\n",
    "\n",
    "# Generate training data\n",
    "# Numbers of examples in training set\n",
    "X,y = generate_data_Xor(N = 5,Best_data = True)\n",
    "\n",
    "# Training:\n",
    "max_iters = 10000\n",
    "W1,W2,b1,b2,c = NN(X,y,number_of_input_nodes=2,number_of_hidden_nodes=2,number_of_output_nodes=1,max_iters=max_iters)\n",
    "x = []\n",
    "for i in range(max_iters):\n",
    "    x.append(i)\n",
    "plt.plot(x,c)\n",
    "plt.title(\"Cost Function\")"
   ]
  },
  {
   "cell_type": "markdown",
   "metadata": {},
   "source": [
    "### Note"
   ]
  },
  {
   "cell_type": "code",
   "execution_count": 8,
   "metadata": {},
   "outputs": [],
   "source": [
    "# Note: Here Xor is not trained well and i got to know that implementing XOR using single hidden\n",
    "# layer and sigmoid activation will not gaurentee that cost converges to 0 and our neural-net learns XOR"
   ]
  },
  {
   "cell_type": "code",
   "execution_count": 9,
   "metadata": {},
   "outputs": [
    {
     "data": {
      "text/plain": [
       "Text(0.5, 1.0, 'Error')"
      ]
     },
     "execution_count": 9,
     "metadata": {},
     "output_type": "execute_result"
    },
    {
     "data": {
      "image/png": "[encoded data removed]",
      "text/plain": [
       "<Figure size 432x288 with 1 Axes>"
      ]
     },
     "metadata": {
      "needs_background": "light"
     },
     "output_type": "display_data"
    }
   ],
   "source": [
    "def testing(number_of_samples,W1,W2,b1,b2):\n",
    "    test_set,test_labels = generate_data_Xor(number_of_samples,Best_data=False)\n",
    "    a0,a1,a2 = feedforward(test_set,W1,W2,b1,b2)\n",
    "    count = 0\n",
    "    for i in range(a2.size):\n",
    "        if a2[0][i] > 0.5 and test_labels[i] == 0:\n",
    "            count += 1\n",
    "        if a2[0][i] <= 0.5 and test_labels[i] == 1:\n",
    "            count += 1\n",
    "    return count\n",
    "\n",
    "accuracys = [] #Miss matching error\n",
    "testing_size = 100\n",
    "i = 1\n",
    "while i < 102:\n",
    "    # Generate training data\n",
    "    # N: Numbers of examples in training set\n",
    "    X,y = generate_data_Xor(N = 1000,Best_data = False)\n",
    "\n",
    "    # Training:\n",
    "    max_iters = 10000\n",
    "    W1,W2,b1,b2,c = NN(X,y,number_of_input_nodes=2,number_of_hidden_nodes=2,number_of_output_nodes=1,max_iters=max_iters)\n",
    "    \n",
    "    accuracys.append(testing(testing_size,W1,W2,b1,b2)/100)\n",
    "    i += 10\n",
    "    \n",
    "p = [0,1,2,3,4,5,6,7,8,9,10]\n",
    "plt.bar(p,accuracys)\n",
    "plt.title(\"Error\")"
   ]
  },
  {
   "cell_type": "code",
   "execution_count": 10,
   "metadata": {},
   "outputs": [
    {
     "data": {
      "text/plain": [
       "Text(0.5, 1.0, 'Error')"
      ]
     },
     "execution_count": 10,
     "metadata": {},
     "output_type": "execute_result"
    },
    {
     "data": {
      "image/png": "[encoded data removed]",
      "text/plain": [
       "<Figure size 432x288 with 1 Axes>"
      ]
     },
     "metadata": {
      "needs_background": "light"
     },
     "output_type": "display_data"
    }
   ],
   "source": [
    "# inputs with noise\n",
    "\n",
    "X = input_with_noise(X)\n",
    "accuracys = [] #Miss-matching error\n",
    "testing_size = 100\n",
    "i = 1\n",
    "while i < 102:\n",
    "    # Generate training data\n",
    "    # Numbers of examples in training set\n",
    "    X,y = generate_data_Xor(N = 1000,Best_data = False)\n",
    "    X = input_with_noise(X)\n",
    "    \n",
    "    # Training:\n",
    "    max_iters = 10000\n",
    "    W1,W2,b1,b2,c = NN(X,y,number_of_input_nodes=2,number_of_hidden_nodes=2,number_of_output_nodes=1,max_iters=max_iters)\n",
    "    \n",
    "    accuracys.append(testing(testing_size,W1,W2,b1,b2)/100)\n",
    "    i += 10\n",
    "    \n",
    "p = [0,1,2,3,4,5,6,7,8,9,10]\n",
    "plt.bar(p,accuracys)\n",
    "plt.title(\"Error\")"
   ]
  },
  {
   "cell_type": "code",
   "execution_count": null,
   "metadata": {},
   "outputs": [],
   "source": []
  },
  {
   "cell_type": "code",
   "execution_count": 11,
   "metadata": {},
   "outputs": [],
   "source": [
    "# AND\n",
    "\n",
    "def generate_data_And(N ,Best_data = False):\n",
    "    X = np.array([[0, 0, 1, 1], [0, 1, 0, 1]])\n",
    "    Y = np.array([[0, 0, 0, 1]]) \n",
    "    \n",
    "    if Best_data:\n",
    "        idx = np.arange(N)%4\n",
    "    else:\n",
    "        idx = np.random.randint(4, size=N)\n",
    "    return X.T[idx,:].T,Y[0][idx]"
   ]
  },
  {
   "cell_type": "code",
   "execution_count": 12,
   "metadata": {},
   "outputs": [
    {
     "data": {
      "text/plain": [
       "Text(0.5, 1.0, 'Cost Function')"
      ]
     },
     "execution_count": 12,
     "metadata": {},
     "output_type": "execute_result"
    },
    {
     "data": {
      "image/png": "[encoded data removed]",
      "text/plain": [
       "<Figure size 432x288 with 1 Axes>"
      ]
     },
     "metadata": {
      "needs_background": "light"
     },
     "output_type": "display_data"
    }
   ],
   "source": [
    "\n",
    "# Set Layer structure\n",
    "number_of_input_nodes = 2\n",
    "number_of_hidden_nodes = 2\n",
    "number_of_output_nodes = 1\n",
    "\n",
    "# Generate training data\n",
    "# Numbers of examples in training set\n",
    "X,y = generate_data_And(N = 5,Best_data = True)\n",
    "\n",
    "# Training:\n",
    "max_iters = 10000\n",
    "W1,W2,b1,b2,c = NN(X,y,number_of_input_nodes=2,number_of_hidden_nodes=2,number_of_output_nodes=1,max_iters=max_iters)\n",
    "x = []\n",
    "for i in range(max_iters):\n",
    "    x.append(i)\n",
    "plt.plot(x,c)\n",
    "plt.title(\"Cost Function\")"
   ]
  },
  {
   "cell_type": "code",
   "execution_count": 13,
   "metadata": {},
   "outputs": [
    {
     "data": {
      "text/plain": [
       "Text(0.5, 1.0, 'Error')"
      ]
     },
     "execution_count": 13,
     "metadata": {},
     "output_type": "execute_result"
    },
    {
     "data": {
      "image/png": "[encoded data removed]",
      "text/plain": [
       "<Figure size 432x288 with 1 Axes>"
      ]
     },
     "metadata": {
      "needs_background": "light"
     },
     "output_type": "display_data"
    }
   ],
   "source": [
    "def testing(number_of_samples,W1,W2,b1,b2):\n",
    "    test_set,test_labels = generate_data_And(number_of_samples,Best_data=False)\n",
    "    a0,a1,a2 = feedforward(test_set,W1,W2,b1,b2)\n",
    "    count = 0\n",
    "    for i in range(a2.size):\n",
    "        if a2[0][i] > 0.5 and test_labels[i] == 0:\n",
    "            count += 1\n",
    "        if a2[0][i] <= 0.5 and test_labels[i] == 1:\n",
    "            count += 1\n",
    "    return count\n",
    "\n",
    "accuracys = [] #Miss matching error\n",
    "testing_size = 100\n",
    "i = 1\n",
    "while i < 102:\n",
    "    # Generate training data\n",
    "    # Numbers of examples in training set\n",
    "    X,y = generate_data_And(N = 1000,Best_data = False)\n",
    "\n",
    "    # Training:\n",
    "    max_iters = 10000\n",
    "    W1,W2,b1,b2,c = NN(X,y,number_of_input_nodes=2,number_of_hidden_nodes=2,number_of_output_nodes=1,max_iters=max_iters)\n",
    "    \n",
    "    accuracys.append(testing(testing_size,W1,W2,b1,b2)/100)\n",
    "    i += 10\n",
    "    \n",
    "p = [0,1,2,3,4,5,6,7,8,9,10]\n",
    "plt.bar(p,accuracys)\n",
    "plt.title(\"Error\")\n",
    "\n",
    "# if graph is empty then error is zero"
   ]
  },
  {
   "cell_type": "code",
   "execution_count": 14,
   "metadata": {},
   "outputs": [
    {
     "data": {
      "text/plain": [
       "Text(0.5, 1.0, 'Error')"
      ]
     },
     "execution_count": 14,
     "metadata": {},
     "output_type": "execute_result"
    },
    {
     "data": {
      "image/png": "[encoded data removed]",
      "text/plain": [
       "<Figure size 432x288 with 1 Axes>"
      ]
     },
     "metadata": {
      "needs_background": "light"
     },
     "output_type": "display_data"
    }
   ],
   "source": [
    "# input with noise\n",
    "\n",
    "accuracys = [] #Miss matching error\n",
    "testing_size = 100\n",
    "i = 1\n",
    "while i < 102:\n",
    "    # Generate training data\n",
    "    # Numbers of examples in training set\n",
    "    X,y = generate_data_And(N = 1000,Best_data = False)\n",
    "    X = input_with_noise(X)\n",
    "    \n",
    "    # Training:\n",
    "    max_iters = 20000\n",
    "    W1,W2,b1,b2,c = NN(X,y,number_of_input_nodes=2,number_of_hidden_nodes=2,number_of_output_nodes=1,max_iters=max_iters)\n",
    "    \n",
    "    accuracys.append(testing(testing_size,W1,W2,b1,b2)/100)\n",
    "    i += 10\n",
    "    \n",
    "p = [0,1,2,3,4,5,6,7,8,9,10]\n",
    "plt.bar(p,accuracys)\n",
    "plt.title(\"Error\")"
   ]
  },
  {
   "cell_type": "code",
   "execution_count": null,
   "metadata": {},
   "outputs": [],
   "source": []
  },
  {
   "cell_type": "code",
   "execution_count": 15,
   "metadata": {},
   "outputs": [],
   "source": [
    "# Or\n",
    "\n",
    "def generate_data_Or(N ,Best_data = False):\n",
    "    X = np.array([[0, 0, 1, 1], [0, 1, 0, 1]])\n",
    "    Y = np.array([[0, 1, 1, 1]]) \n",
    "    \n",
    "    if Best_data:\n",
    "        idx = np.arange(N)%4\n",
    "    else:\n",
    "        idx = np.random.randint(4, size=N)\n",
    "    return X.T[idx,:].T,Y[0][idx]\n"
   ]
  },
  {
   "cell_type": "code",
   "execution_count": 16,
   "metadata": {},
   "outputs": [
    {
     "data": {
      "text/plain": [
       "Text(0.5, 1.0, 'Cost Function')"
      ]
     },
     "execution_count": 16,
     "metadata": {},
     "output_type": "execute_result"
    },
    {
     "data": {
      "image/png": "[encoded data removed]",
      "text/plain": [
       "<Figure size 432x288 with 1 Axes>"
      ]
     },
     "metadata": {
      "needs_background": "light"
     },
     "output_type": "display_data"
    }
   ],
   "source": [
    "# Set Layer structure\n",
    "number_of_input_nodes = 2\n",
    "number_of_hidden_nodes = 2\n",
    "number_of_output_nodes = 1\n",
    "\n",
    "# Generate training data\n",
    "# Numbers of examples in training set\n",
    "X,y = generate_data_Or(N = 5,Best_data = True)\n",
    "\n",
    "# Training:\n",
    "max_iters = 20000\n",
    "W1,W2,b1,b2,c = NN(X,y,number_of_input_nodes=2,number_of_hidden_nodes=2,number_of_output_nodes=1,max_iters=max_iters)\n",
    "x = []\n",
    "for i in range(max_iters):\n",
    "    x.append(i)\n",
    "plt.plot(x,c)\n",
    "plt.title(\"Cost Function\")"
   ]
  },
  {
   "cell_type": "code",
   "execution_count": 17,
   "metadata": {},
   "outputs": [
    {
     "data": {
      "text/plain": [
       "Text(0.5, 1.0, 'Error')"
      ]
     },
     "execution_count": 17,
     "metadata": {},
     "output_type": "execute_result"
    },
    {
     "data": {
      "image/png": "[encoded data removed]",
      "text/plain": [
       "<Figure size 432x288 with 1 Axes>"
      ]
     },
     "metadata": {
      "needs_background": "light"
     },
     "output_type": "display_data"
    }
   ],
   "source": [
    "def testing(number_of_samples,W1,W2,b1,b2):\n",
    "    test_set,test_labels = generate_data_Or(number_of_samples,Best_data=False)\n",
    "    a0,a1,a2 = feedforward(test_set,W1,W2,b1,b2)\n",
    "    count = 0\n",
    "    for i in range(a2.size):\n",
    "        if a2[0][i] > 0.5 and test_labels[i] == 0:\n",
    "            count += 1\n",
    "        if a2[0][i] <= 0.5 and test_labels[i] == 1:\n",
    "            count += 1\n",
    "    return count\n",
    "\n",
    "accuracys = [] #Miss matching error\n",
    "testing_size = 100\n",
    "i = 1\n",
    "while i < 102:\n",
    "    # Generate training data\n",
    "    # Numbers of examples in training set\n",
    "    X,y = generate_data_Or(N = 1000,Best_data = False)\n",
    "\n",
    "    # Training:\n",
    "    max_iters = 20000\n",
    "    W1,W2,b1,b2,c = NN(X,y,number_of_input_nodes=2,number_of_hidden_nodes=2,number_of_output_nodes=1,max_iters=max_iters)\n",
    "    \n",
    "    accuracys.append(testing(testing_size,W1,W2,b1,b2)/100)\n",
    "    i += 10\n",
    "    \n",
    "p = [0,1,2,3,4,5,6,7,8,9,10]\n",
    "plt.bar(p,accuracys)\n",
    "plt.title(\"Error\")\n",
    "\n",
    "# if graph is empty then error is zero"
   ]
  },
  {
   "cell_type": "code",
   "execution_count": 18,
   "metadata": {},
   "outputs": [
    {
     "data": {
      "text/plain": [
       "Text(0.5, 1.0, 'Error')"
      ]
     },
     "execution_count": 18,
     "metadata": {},
     "output_type": "execute_result"
    },
    {
     "data": {
      "image/png": "[encoded data removed]",
      "text/plain": [
       "<Figure size 432x288 with 1 Axes>"
      ]
     },
     "metadata": {
      "needs_background": "light"
     },
     "output_type": "display_data"
    }
   ],
   "source": [
    "accuracys = [] #Miss matching error\n",
    "testing_size = 100\n",
    "i = 1\n",
    "while i < 102:\n",
    "    # Generate training data\n",
    "    # Numbers of examples in training set\n",
    "    X,y = generate_data_Or(N = 1000,Best_data = False)\n",
    "    X = input_with_noise(X)\n",
    "    \n",
    "    # Training:\n",
    "    max_iters = 20000\n",
    "    W1,W2,b1,b2,c = NN(X,y,number_of_input_nodes=2,number_of_hidden_nodes=2,number_of_output_nodes=1,max_iters=max_iters)\n",
    "    \n",
    "    accuracys.append(testing(testing_size,W1,W2,b1,b2)/100)\n",
    "    i += 10\n",
    "    \n",
    "p = [0,1,2,3,4,5,6,7,8,9,10]\n",
    "plt.bar(p,accuracys)\n",
    "plt.title(\"Error\")"
   ]
  },
  {
   "cell_type": "code",
   "execution_count": null,
   "metadata": {},
   "outputs": [],
   "source": []
  },
  {
   "cell_type": "code",
   "execution_count": null,
   "metadata": {},
   "outputs": [],
   "source": []
  },
  {
   "cell_type": "code",
   "execution_count": 19,
   "metadata": {},
   "outputs": [],
   "source": [
    "# Question-2\n",
    "\n",
    "number_of_train_samples = 50"
   ]
  },
  {
   "cell_type": "markdown",
   "metadata": {},
   "source": [
    "### Run below cell and skip next cell if 'train-images-idx3-ubyte' is not available"
   ]
  },
  {
   "cell_type": "code",
   "execution_count": 42,
   "metadata": {},
   "outputs": [
    {
     "name": "stdout",
     "output_type": "stream",
     "text": [
      "Extracting MNIST_data\\train-images-idx3-ubyte.gz\n",
      "Extracting MNIST_data\\train-labels-idx1-ubyte.gz\n",
      "Extracting MNIST_data\\t10k-images-idx3-ubyte.gz\n",
      "Extracting MNIST_data\\t10k-labels-idx1-ubyte.gz\n"
     ]
    }
   ],
   "source": [
    "\n",
    "### Loading data using Tensorflow\n",
    "mnist = input_data.read_data_sets('MNIST_data')\n",
    "X = mnist.train.next_batch(batch_size=number_of_train_samples)[0].T\n",
    "y = mnist.train.next_batch(batch_size=number_of_train_samples)[1]"
   ]
  },
  {
   "cell_type": "markdown",
   "metadata": {},
   "source": [
    "### Run this if 'train-images-idx3-ubyte' (downloaded from given link) is available"
   ]
  },
  {
   "cell_type": "code",
   "execution_count": 21,
   "metadata": {},
   "outputs": [],
   "source": [
    "\n",
    "## Run this if 'train-images-idx3-ubyte' (downloaded from given link) is available\n",
    "\n",
    "# def read_idx(filename):\n",
    "#     with open(filename, 'rb') as f:\n",
    "#         zero, data_type, dims = struct.unpack('>HBB', f.read(4))\n",
    "#         shape = tuple(struct.unpack('>I', f.read(4))[0] for d in range(dims))\n",
    "#         return np.fromstring(f.read(), dtype=np.uint8).reshape(shape)\n",
    "\n",
    "# train_images = read_idx('train-images-idx3-ubyte')\n",
    "# train_labels = read_idx('train-labels-idx1-ubyte')\n",
    "\n",
    "\n",
    "# def get_data(num_of_samples,train_images,train_labels,sampled_size = 28):\n",
    "#     dataset = np.zeros((sampled_size*sampled_size,num_of_samples))\n",
    "#     label_dataset = np.zeros(num_of_samples)\n",
    "    \n",
    "#     for i in range(num_of_samples):\n",
    "#         dataset[:,i] = train_images[i].flatten()\n",
    "#         label_dataset[i] = train_labels[i]\n",
    "        \n",
    "#     return dataset,label_dataset\n",
    "\n",
    "# # Getting data and Normalising\n",
    "# X,y = get_data(number_of_train_samples,train_images,train_labels)\n",
    "# X = X/255"
   ]
  },
  {
   "cell_type": "code",
   "execution_count": 22,
   "metadata": {},
   "outputs": [],
   "source": [
    "# Neural Net-structure\n",
    "\n",
    "## Keeping more hidden layers is helping to get images Good\n",
    "# Tune number_of_hidden_nodes here\n",
    "number_of_input_nodes = X.shape[0]\n",
    "number_of_hidden_nodes = 600\n",
    "number_of_output_nodes = X.shape[0]"
   ]
  },
  {
   "cell_type": "markdown",
   "metadata": {},
   "source": [
    "### Using same feedforward for forward propagation(from Q1) and doing different backpropagation and using different cost calculation(since these are different)"
   ]
  },
  {
   "cell_type": "code",
   "execution_count": 23,
   "metadata": {},
   "outputs": [],
   "source": [
    "def backprop(X,output_layer_difference,KL_divergence_grad,output_layer_activation,hidden_layer_activation,W1,W2,lamda):\n",
    "    \n",
    "    delta_outer = np.multiply(output_layer_difference,np.multiply(output_layer_activation,1-output_layer_activation))\n",
    "    delta_hidden = np.multiply(np.dot(np.transpose(W2),delta_outer) + np.transpose(np.matrix(KL_divergence_grad)),\n",
    "                               np.multiply(hidden_layer_activation,1-hidden_layer_activation))\n",
    "\n",
    "\n",
    "    W1_grad = np.dot(delta_hidden,np.transpose(X))\n",
    "    W2_grad = np.dot(delta_outer,np.transpose(hidden_layer_activation))\n",
    "    b1_grad = np.sum(delta_hidden,axis = 1)\n",
    "    b2_grad = np.sum(delta_outer,axis = 1).reshape(delta_outer.shape[0],1)\n",
    "    \n",
    "    W1_grad = W1_grad / X.shape[1] + lamda * W1\n",
    "    W2_grad = W2_grad / X.shape[1] + lamda * W2\n",
    "    b1_grad = b1_grad / X.shape[1]\n",
    "    b2_grad = b2_grad / X.shape[1]\n",
    "\n",
    "    W1_grad = np.array(W1_grad)\n",
    "    W2_grad = np.array(W2_grad)\n",
    "    b1_grad = np.array(b1_grad)\n",
    "    b2_grad = np.array(b2_grad)\n",
    "    \n",
    "    return W1_grad,W2_grad,b1_grad,b2_grad\n",
    "    \n",
    "\n",
    "## Tune Learning rate,, lamda: weight decay coeffient,, beta:sparsity constant,, rho:probability.\n",
    "def Sparse_autoencoder(X,number_of_input_nodes,number_of_hidden_nodes,max_iters = 5000):\n",
    "    W1 = np.random.normal(0,1,size=(number_of_hidden_nodes,number_of_input_nodes))\n",
    "    W2 = np.random.normal(0,1,size=(number_of_input_nodes,number_of_hidden_nodes))\n",
    "    b1 = np.random.normal(0,1,size=(number_of_hidden_nodes,1))\n",
    "    b2 = np.random.normal(0,1,size=(number_of_input_nodes,1))\n",
    "    \n",
    "    lamda = 0.1\n",
    "    beta = 0.01\n",
    "    rho = 0.1\n",
    "    learning_rate = 0.01\n",
    "\n",
    "    cost_list = []\n",
    "    \n",
    "    for i in range(max_iters):\n",
    "\n",
    "        # Forward\n",
    "#         X = mnist.train.next_batch(number_of_train_samples)[0].T\n",
    "        _,hidden_layer_activation,output_layer_activation = feedforward(X,W1,W2,b1,b2)\n",
    "\n",
    "\n",
    "        # Useful values\n",
    "        output_layer_difference = output_layer_activation - X\n",
    "        rho_cap = np.sum(hidden_layer_activation,axis = 1)/X.shape[1]\n",
    "        KL_divergence_grad = beta * (-(rho/rho_cap) + ((1-rho)/(1-rho_cap)))\n",
    "        \n",
    "        # Cost \n",
    "        MSE = 0.5 * np.sum(np.multiply(output_layer_difference,output_layer_difference))/X.shape[1]\n",
    "#         epsilon = 1e-10\n",
    "#         log_loss = -np.sum(X*np.log(output_layer_activation+epsilon)+(1-X)*np.log(1-output_layer_activation+epsilon))/X.shape[1]\n",
    "        weight_decay = 0.5 * lamda * (np.sum(np.multiply(W1,W1)) + np.sum(np.multiply(W2,W2)))\n",
    "\n",
    "        # overflow issues\n",
    "        for j in range(rho_cap.size):\n",
    "            if rho_cap[j] == 1:\n",
    "                rho_cap[j] = 0.99\n",
    "            if rho_cap[j] == 0:\n",
    "                rho_cap[j] = 0.01\n",
    "        KL_divergence = beta * np.sum(rho * np.log(rho/rho_cap) + (1-rho) * np.log((1-rho)/(1-rho_cap)))\n",
    "\n",
    "        cost = MSE + weight_decay + KL_divergence\n",
    "\n",
    "        # BackProp\n",
    "        W1_grad,W2_grad,b1_grad,b2_grad = backprop(X,output_layer_difference,KL_divergence_grad,output_layer_activation,hidden_layer_activation,W1,W2,lamda)\n",
    "        \n",
    "        # Update\n",
    "\n",
    "        W1 = W1 - learning_rate * W1_grad\n",
    "        W2 = W2 - learning_rate * W2_grad\n",
    "        b1 = b1 - learning_rate * b1_grad\n",
    "        b2 = b2 - learning_rate * b2_grad\n",
    "        \n",
    "        cost_list.append(cost)\n",
    "        \n",
    "        if not i%500:\n",
    "            print(\"iteration\", i,\":\",\"cost:\",cost)\n",
    "    return W1,W2,b1,b2,cost_list"
   ]
  },
  {
   "cell_type": "code",
   "execution_count": 24,
   "metadata": {},
   "outputs": [
    {
     "name": "stdout",
     "output_type": "stream",
     "text": [
      "iteration 0 : cost: 47262.65987333686\n",
      "iteration 500 : cost: 17385.27365244849\n",
      "iteration 1000 : cost: 6409.256089613186\n",
      "iteration 1500 : cost: 2365.022918231669\n",
      "iteration 2000 : cost: 879.6291667990138\n",
      "iteration 2500 : cost: 338.18958461559623\n",
      "iteration 3000 : cost: 140.44422291129501\n",
      "iteration 3500 : cost: 67.87231003344623\n",
      "iteration 4000 : cost: 41.1065730265981\n",
      "iteration 4500 : cost: 31.17164588125014\n"
     ]
    }
   ],
   "source": [
    "# Tune maximum iterations here\n",
    "W1,W2,b1,b2,c =  Sparse_autoencoder(X,number_of_input_nodes,number_of_hidden_nodes,max_iters=5000)"
   ]
  },
  {
   "cell_type": "code",
   "execution_count": 47,
   "metadata": {},
   "outputs": [
    {
     "data": {
      "text/plain": [
       "Text(0.5, 1.0, 'output Image')"
      ]
     },
     "execution_count": 47,
     "metadata": {},
     "output_type": "execute_result"
    },
    {
     "data": {
      "image/png": "[encoded data removed]",
      "text/plain": [
       "<Figure size 432x288 with 1 Axes>"
      ]
     },
     "metadata": {
      "needs_background": "light"
     },
     "output_type": "display_data"
    }
   ],
   "source": [
    "# Testing:\n",
    "\n",
    "hidden_layer_activation = sigmoid(np.dot(W1,X) + b1)\n",
    "output_layer_activation = sigmoid(np.dot(W2,hidden_layer_activation) + b2)\n",
    "plt.imshow(output_layer_activation[:,1].reshape(28,28),cmap = 'gray')\n",
    "plt.title(\"output Image\")"
   ]
  },
  {
   "cell_type": "code",
   "execution_count": 48,
   "metadata": {},
   "outputs": [
    {
     "data": {
      "text/plain": [
       "Text(0.5, 1.0, 'Original Image')"
      ]
     },
     "execution_count": 48,
     "metadata": {},
     "output_type": "execute_result"
    },
    {
     "data": {
      "image/png": "[encoded data removed]",
      "text/plain": [
       "<Figure size 432x288 with 1 Axes>"
      ]
     },
     "metadata": {
      "needs_background": "light"
     },
     "output_type": "display_data"
    }
   ],
   "source": [
    "plt.imshow(X[:,1].reshape(28,28),cmap = 'gray')\n",
    "plt.title(\"Original Image\")"
   ]
  },
  {
   "cell_type": "code",
   "execution_count": null,
   "metadata": {},
   "outputs": [],
   "source": []
  },
  {
   "cell_type": "markdown",
   "metadata": {},
   "source": [
    "## Question 3"
   ]
  },
  {
   "cell_type": "code",
   "execution_count": 27,
   "metadata": {},
   "outputs": [],
   "source": [
    "## NOTE:\n",
    "\n",
    "# In this Question better to choose dataset from tensorflow because optimizing on same batch is\n",
    "# not giving good results(from previous question) and\n",
    "# i got to know that if we train with many batches we will get good results as below even without downsampling and\n",
    "#Implemtation is becoming slighty easy and also normalising is done very well."
   ]
  },
  {
   "cell_type": "code",
   "execution_count": 28,
   "metadata": {},
   "outputs": [
    {
     "name": "stdout",
     "output_type": "stream",
     "text": [
      "Extracting MNIST_data\\train-images-idx3-ubyte.gz\n",
      "Extracting MNIST_data\\train-labels-idx1-ubyte.gz\n",
      "Extracting MNIST_data\\t10k-images-idx3-ubyte.gz\n",
      "Extracting MNIST_data\\t10k-labels-idx1-ubyte.gz\n"
     ]
    }
   ],
   "source": [
    "mnist = input_data.read_data_sets('MNIST_data')"
   ]
  },
  {
   "cell_type": "code",
   "execution_count": 29,
   "metadata": {},
   "outputs": [],
   "source": [
    "# Function to downscale dataset\n",
    "def downscale(X,number_of_training_samples):\n",
    "    dataset = np.zeros((number_of_training_samples,196))\n",
    "    for i in range(X[0].shape[0]):\n",
    "        A = X[0][i,:].reshape(28,28)\n",
    "        dataset[i,:] = downscale_local_mean(A,(2,2)).reshape(-1)\n",
    "    \n",
    "    A = []\n",
    "    A.append(dataset)\n",
    "    A.append(X[1])\n",
    "    return A"
   ]
  },
  {
   "cell_type": "markdown",
   "metadata": {},
   "source": [
    "#### If we want to use total image ie. 28 x 28 uncomment this and comment below cell and Run"
   ]
  },
  {
   "cell_type": "code",
   "execution_count": 30,
   "metadata": {},
   "outputs": [],
   "source": [
    "# number_sample = mnist.train.num_examples\n",
    "# input_dim = 784 #28^2"
   ]
  },
  {
   "cell_type": "code",
   "execution_count": 31,
   "metadata": {},
   "outputs": [],
   "source": [
    "# If we want to use total image ie. 14 x 14\n",
    "number_sample = mnist.train.num_examples\n",
    "input_dim = 196"
   ]
  },
  {
   "cell_type": "code",
   "execution_count": 32,
   "metadata": {},
   "outputs": [],
   "source": [
    "class VariationalAutoEncoder(object):\n",
    "    def __init__(self,learning_rate=1e-4,batch_size=100,n_z=5):\n",
    "        self.learning_rate = learning_rate\n",
    "        self.batch_size = batch_size\n",
    "        self.n_z = n_z\n",
    "        \n",
    "        #build a network\n",
    "        self.build()\n",
    "        #launch a session\n",
    "        self.sess = tf.Session()\n",
    "        self.sess.run(tf.global_variables_initializer())\n",
    "        \n",
    "    #building a network\n",
    "    def build(self):\n",
    "        #input\n",
    "        self.x = tf.placeholder(name='x',dtype=tf.float32,shape=[None,input_dim])  #shape=(batch_size,input_dim)\n",
    "\n",
    "        ### After Testing with varies neural-net structures i ended with below architecture\n",
    "        #encoder\n",
    "        f1 = fc(self.x,512,activation_fn=tf.nn.relu)\n",
    "        f2 = fc(f1,384,activation_fn=tf.nn.relu)  \n",
    "        f3 = fc(f2,256,activation_fn=tf.nn.relu)  \n",
    "        \n",
    "        self.z_mu = fc(f3,self.n_z,activation_fn=None)\n",
    "        self.sigma_z_sq = fc(f3,self.n_z,activation_fn=None)\n",
    "        # let Here sigma_z_sq be log of sigma^2\n",
    "\n",
    "        # Reparametrization (eps)\n",
    "        #N(z_mu,z_sigma)\n",
    "        eps = tf.random_normal(shape=tf.shape(self.sigma_z_sq),mean=0,stddev=1,dtype=tf.float32)\n",
    "        self.z = self.z_mu + tf.sqrt(tf.exp(self.sigma_z_sq)) * eps\n",
    "\n",
    "        #decoder\n",
    "        g1 = fc(self.z,256,activation_fn=tf.nn.relu)\n",
    "        g2 = fc(g1,384,activation_fn=tf.nn.relu)\n",
    "        g3 = fc(g2,512,activation_fn=tf.nn.relu)\n",
    "        \n",
    "        self.x_hat = fc(g3,input_dim,activation_fn=tf.sigmoid)\n",
    "        \n",
    "        #Cost(Mis-matching or Log-Loss)\n",
    "        # From previous question experience i am choose Log-loss between x,x_hat instead of MSE\n",
    "        epsilon = 1e-10\n",
    "        classify_loss = -tf.reduce_sum(self.x*tf.log(self.x_hat+epsilon)+(1-self.x)*tf.log(1-self.x_hat+epsilon),axis=1)\n",
    "        \n",
    "        # Our Cost Function \n",
    "        latent_loss = -0.5*tf.reduce_sum(1+self.sigma_z_sq-tf.square(self.z_mu)- tf.exp(self.sigma_z_sq),axis=1)\n",
    "        \n",
    "        #Total loss\n",
    "        self.loss = tf.reduce_mean(classify_loss+latent_loss)\n",
    "        \n",
    "        #optimiser\n",
    "        self.train_op = tf.train.AdamOptimizer(learning_rate=self.learning_rate).minimize(self.loss)\n",
    "        \n",
    "\n",
    "    # Doing single forward and backward pass to get loss    \n",
    "    def run_single_step(self,x):\n",
    "#         print(x.shape)\n",
    "        _, loss = self.sess.run([self.train_op,self.loss], feed_dict={self.x: x})\n",
    "        return loss\n",
    "        \n",
    "    # For Getting input Samples:\n",
    "    def output(self,x):\n",
    "        return self.sess.run(self.x_hat , feed_dict={self.x: x})\n",
    "        \n",
    "    # For Generating New Samples:\n",
    "    def generate(self,z):\n",
    "        return self.sess.run(self.x_hat,feed_dict={self.z: z})\n"
   ]
  },
  {
   "cell_type": "markdown",
   "metadata": {},
   "source": [
    "### Tune epoch here:"
   ]
  },
  {
   "cell_type": "code",
   "execution_count": 33,
   "metadata": {},
   "outputs": [],
   "source": [
    "def get_model_trained(learning_rate=1e-4,batch_size=100,epoch=15,n_z=10):\n",
    "    \n",
    "    model = VariationalAutoEncoder(learning_rate=learning_rate,batch_size=batch_size,n_z=n_z)\n",
    "    \n",
    "    #training loop\n",
    "    for ep in range(epoch):\n",
    "        for iter in range(number_sample // batch_size):\n",
    "            \n",
    "            # If we dont want downsampling comment below line and uncomment the next line\n",
    "            batch = downscale(mnist.train.next_batch(batch_size),batch_size)\n",
    "#             batch = mnist.train.next_batch(batch_size)\n",
    "            \n",
    "            #Doing forward and backward pass (training)\n",
    "            #print(batch[0].shape)\n",
    "            loss = model.run_single_step(batch[0])\n",
    "        print('[Epoch {}] Loss: {}'.format(ep,loss))\n",
    "    print('Done!')\n",
    "    return model"
   ]
  },
  {
   "cell_type": "markdown",
   "metadata": {},
   "source": [
    "### Tune Learning Rate, latent dimension,batch size here:"
   ]
  },
  {
   "cell_type": "code",
   "execution_count": 34,
   "metadata": {},
   "outputs": [
    {
     "name": "stdout",
     "output_type": "stream",
     "text": [
      "WARNING:tensorflow:Entity <bound method Dense.call of <tensorflow.python.layers.core.Dense object at 0x000001FFFA4B2448>> could not be transformed and will be executed as-is. Please report this to the AutgoGraph team. When filing the bug, set the verbosity to 10 (on Linux, `export AUTOGRAPH_VERBOSITY=10`) and attach the full output. Cause: converting <bound method Dense.call of <tensorflow.python.layers.core.Dense object at 0x000001FFFA4B2448>>: AttributeError: module 'gast' has no attribute 'Index'\n",
      "WARNING: Entity <bound method Dense.call of <tensorflow.python.layers.core.Dense object at 0x000001FFFA4B2448>> could not be transformed and will be executed as-is. Please report this to the AutgoGraph team. When filing the bug, set the verbosity to 10 (on Linux, `export AUTOGRAPH_VERBOSITY=10`) and attach the full output. Cause: converting <bound method Dense.call of <tensorflow.python.layers.core.Dense object at 0x000001FFFA4B2448>>: AttributeError: module 'gast' has no attribute 'Index'\n",
      "WARNING:tensorflow:Entity <bound method Dense.call of <tensorflow.python.layers.core.Dense object at 0x000001FF8006A308>> could not be transformed and will be executed as-is. Please report this to the AutgoGraph team. When filing the bug, set the verbosity to 10 (on Linux, `export AUTOGRAPH_VERBOSITY=10`) and attach the full output. Cause: converting <bound method Dense.call of <tensorflow.python.layers.core.Dense object at 0x000001FF8006A308>>: AttributeError: module 'gast' has no attribute 'Index'\n",
      "WARNING: Entity <bound method Dense.call of <tensorflow.python.layers.core.Dense object at 0x000001FF8006A308>> could not be transformed and will be executed as-is. Please report this to the AutgoGraph team. When filing the bug, set the verbosity to 10 (on Linux, `export AUTOGRAPH_VERBOSITY=10`) and attach the full output. Cause: converting <bound method Dense.call of <tensorflow.python.layers.core.Dense object at 0x000001FF8006A308>>: AttributeError: module 'gast' has no attribute 'Index'\n",
      "WARNING:tensorflow:Entity <bound method Dense.call of <tensorflow.python.layers.core.Dense object at 0x000001FFFA40AE88>> could not be transformed and will be executed as-is. Please report this to the AutgoGraph team. When filing the bug, set the verbosity to 10 (on Linux, `export AUTOGRAPH_VERBOSITY=10`) and attach the full output. Cause: converting <bound method Dense.call of <tensorflow.python.layers.core.Dense object at 0x000001FFFA40AE88>>: AttributeError: module 'gast' has no attribute 'Index'\n",
      "WARNING: Entity <bound method Dense.call of <tensorflow.python.layers.core.Dense object at 0x000001FFFA40AE88>> could not be transformed and will be executed as-is. Please report this to the AutgoGraph team. When filing the bug, set the verbosity to 10 (on Linux, `export AUTOGRAPH_VERBOSITY=10`) and attach the full output. Cause: converting <bound method Dense.call of <tensorflow.python.layers.core.Dense object at 0x000001FFFA40AE88>>: AttributeError: module 'gast' has no attribute 'Index'\n",
      "WARNING:tensorflow:Entity <bound method Dense.call of <tensorflow.python.layers.core.Dense object at 0x000001FFFA49F4C8>> could not be transformed and will be executed as-is. Please report this to the AutgoGraph team. When filing the bug, set the verbosity to 10 (on Linux, `export AUTOGRAPH_VERBOSITY=10`) and attach the full output. Cause: converting <bound method Dense.call of <tensorflow.python.layers.core.Dense object at 0x000001FFFA49F4C8>>: AttributeError: module 'gast' has no attribute 'Index'\n",
      "WARNING: Entity <bound method Dense.call of <tensorflow.python.layers.core.Dense object at 0x000001FFFA49F4C8>> could not be transformed and will be executed as-is. Please report this to the AutgoGraph team. When filing the bug, set the verbosity to 10 (on Linux, `export AUTOGRAPH_VERBOSITY=10`) and attach the full output. Cause: converting <bound method Dense.call of <tensorflow.python.layers.core.Dense object at 0x000001FFFA49F4C8>>: AttributeError: module 'gast' has no attribute 'Index'\n",
      "WARNING:tensorflow:Entity <bound method Dense.call of <tensorflow.python.layers.core.Dense object at 0x000001FFFA3EB688>> could not be transformed and will be executed as-is. Please report this to the AutgoGraph team. When filing the bug, set the verbosity to 10 (on Linux, `export AUTOGRAPH_VERBOSITY=10`) and attach the full output. Cause: converting <bound method Dense.call of <tensorflow.python.layers.core.Dense object at 0x000001FFFA3EB688>>: AttributeError: module 'gast' has no attribute 'Index'\n",
      "WARNING: Entity <bound method Dense.call of <tensorflow.python.layers.core.Dense object at 0x000001FFFA3EB688>> could not be transformed and will be executed as-is. Please report this to the AutgoGraph team. When filing the bug, set the verbosity to 10 (on Linux, `export AUTOGRAPH_VERBOSITY=10`) and attach the full output. Cause: converting <bound method Dense.call of <tensorflow.python.layers.core.Dense object at 0x000001FFFA3EB688>>: AttributeError: module 'gast' has no attribute 'Index'\n",
      "WARNING:tensorflow:Entity <bound method Dense.call of <tensorflow.python.layers.core.Dense object at 0x000001FFFA5E3548>> could not be transformed and will be executed as-is. Please report this to the AutgoGraph team. When filing the bug, set the verbosity to 10 (on Linux, `export AUTOGRAPH_VERBOSITY=10`) and attach the full output. Cause: converting <bound method Dense.call of <tensorflow.python.layers.core.Dense object at 0x000001FFFA5E3548>>: AttributeError: module 'gast' has no attribute 'Index'\n",
      "WARNING: Entity <bound method Dense.call of <tensorflow.python.layers.core.Dense object at 0x000001FFFA5E3548>> could not be transformed and will be executed as-is. Please report this to the AutgoGraph team. When filing the bug, set the verbosity to 10 (on Linux, `export AUTOGRAPH_VERBOSITY=10`) and attach the full output. Cause: converting <bound method Dense.call of <tensorflow.python.layers.core.Dense object at 0x000001FFFA5E3548>>: AttributeError: module 'gast' has no attribute 'Index'\n",
      "WARNING:tensorflow:Entity <bound method Dense.call of <tensorflow.python.layers.core.Dense object at 0x000001FF80057788>> could not be transformed and will be executed as-is. Please report this to the AutgoGraph team. When filing the bug, set the verbosity to 10 (on Linux, `export AUTOGRAPH_VERBOSITY=10`) and attach the full output. Cause: converting <bound method Dense.call of <tensorflow.python.layers.core.Dense object at 0x000001FF80057788>>: AttributeError: module 'gast' has no attribute 'Index'\n",
      "WARNING: Entity <bound method Dense.call of <tensorflow.python.layers.core.Dense object at 0x000001FF80057788>> could not be transformed and will be executed as-is. Please report this to the AutgoGraph team. When filing the bug, set the verbosity to 10 (on Linux, `export AUTOGRAPH_VERBOSITY=10`) and attach the full output. Cause: converting <bound method Dense.call of <tensorflow.python.layers.core.Dense object at 0x000001FF80057788>>: AttributeError: module 'gast' has no attribute 'Index'\n",
      "WARNING:tensorflow:Entity <bound method Dense.call of <tensorflow.python.layers.core.Dense object at 0x000001FF800575C8>> could not be transformed and will be executed as-is. Please report this to the AutgoGraph team. When filing the bug, set the verbosity to 10 (on Linux, `export AUTOGRAPH_VERBOSITY=10`) and attach the full output. Cause: converting <bound method Dense.call of <tensorflow.python.layers.core.Dense object at 0x000001FF800575C8>>: AttributeError: module 'gast' has no attribute 'Index'\n",
      "WARNING: Entity <bound method Dense.call of <tensorflow.python.layers.core.Dense object at 0x000001FF800575C8>> could not be transformed and will be executed as-is. Please report this to the AutgoGraph team. When filing the bug, set the verbosity to 10 (on Linux, `export AUTOGRAPH_VERBOSITY=10`) and attach the full output. Cause: converting <bound method Dense.call of <tensorflow.python.layers.core.Dense object at 0x000001FF800575C8>>: AttributeError: module 'gast' has no attribute 'Index'\n",
      "WARNING:tensorflow:Entity <bound method Dense.call of <tensorflow.python.layers.core.Dense object at 0x000001FFFA36F0C8>> could not be transformed and will be executed as-is. Please report this to the AutgoGraph team. When filing the bug, set the verbosity to 10 (on Linux, `export AUTOGRAPH_VERBOSITY=10`) and attach the full output. Cause: converting <bound method Dense.call of <tensorflow.python.layers.core.Dense object at 0x000001FFFA36F0C8>>: AttributeError: module 'gast' has no attribute 'Index'\n"
     ]
    },
    {
     "name": "stdout",
     "output_type": "stream",
     "text": [
      "WARNING: Entity <bound method Dense.call of <tensorflow.python.layers.core.Dense object at 0x000001FFFA36F0C8>> could not be transformed and will be executed as-is. Please report this to the AutgoGraph team. When filing the bug, set the verbosity to 10 (on Linux, `export AUTOGRAPH_VERBOSITY=10`) and attach the full output. Cause: converting <bound method Dense.call of <tensorflow.python.layers.core.Dense object at 0x000001FFFA36F0C8>>: AttributeError: module 'gast' has no attribute 'Index'\n",
      "[Epoch 0] Loss: 53.634735107421875\n",
      "[Epoch 1] Loss: 49.34687805175781\n",
      "[Epoch 2] Loss: 48.119606018066406\n",
      "[Epoch 3] Loss: 44.360137939453125\n",
      "[Epoch 4] Loss: 44.79725646972656\n",
      "[Epoch 5] Loss: 44.28864669799805\n",
      "[Epoch 6] Loss: 44.483280181884766\n",
      "[Epoch 7] Loss: 46.01020431518555\n",
      "[Epoch 8] Loss: 44.26508331298828\n",
      "[Epoch 9] Loss: 44.11685562133789\n",
      "[Epoch 10] Loss: 43.998558044433594\n",
      "[Epoch 11] Loss: 44.2008056640625\n",
      "[Epoch 12] Loss: 44.84012222290039\n",
      "[Epoch 13] Loss: 43.63882827758789\n",
      "[Epoch 14] Loss: 44.198116302490234\n",
      "Done!\n"
     ]
    }
   ],
   "source": [
    "tf.reset_default_graph()\n",
    "model = get_model_trained(learning_rate=1e-4,batch_size=100,n_z=2)"
   ]
  },
  {
   "cell_type": "code",
   "execution_count": 37,
   "metadata": {},
   "outputs": [
    {
     "name": "stdout",
     "output_type": "stream",
     "text": [
      "Original Number: 3\n"
     ]
    },
    {
     "data": {
      "image/png": "[encoded data removed]",
      "text/plain": [
       "<Figure size 432x288 with 1 Axes>"
      ]
     },
     "metadata": {
      "needs_background": "light"
     },
     "output_type": "display_data"
    }
   ],
   "source": [
    "# rebuliding\n",
    "batch_size = 10\n",
    "batch = downscale(mnist.train.next_batch(batch_size),batch_size)\n",
    "x_rebulided = model.output(batch[0])\n",
    "\n",
    "plt.imshow(x_rebulided[2,:].reshape(14,14),cmap = 'gray')\n",
    "plt.title(\"rebulided Number\")\n",
    "print(\"Original Number:\",batch[1][1])"
   ]
  },
  {
   "cell_type": "code",
   "execution_count": 38,
   "metadata": {},
   "outputs": [
    {
     "data": {
      "text/plain": [
       "Text(0.5, 1.0, 'New data')"
      ]
     },
     "execution_count": 38,
     "metadata": {},
     "output_type": "execute_result"
    },
    {
     "data": {
      "image/png": "[encoded data removed]",
      "text/plain": [
       "<Figure size 432x288 with 1 Axes>"
      ]
     },
     "metadata": {
      "needs_background": "light"
     },
     "output_type": "display_data"
    }
   ],
   "source": [
    "# Testing\n",
    "z = np.random.normal(size=[model.batch_size, model.n_z])\n",
    "x_generated = model.generate(z)\n",
    "\n",
    "plt.imshow(x_generated[3,:].reshape(14,14),cmap = 'gray')\n",
    "plt.title(\"New data\")"
   ]
  },
  {
   "cell_type": "code",
   "execution_count": null,
   "metadata": {},
   "outputs": [],
   "source": []
  },
  {
   "cell_type": "code",
   "execution_count": null,
   "metadata": {},
   "outputs": [],
   "source": []
  },
  {
   "cell_type": "code",
   "execution_count": null,
   "metadata": {},
   "outputs": [],
   "source": []
  }
 ],
 "metadata": {
  "kernelspec": {
   "display_name": "Python 3",
   "language": "python",
   "name": "python3"
  },
  "language_info": {
   "codemirror_mode": {
    "name": "ipython",
    "version": 3
   },
   "file_extension": ".py",
   "mimetype": "text/x-python",
   "name": "python",
   "nbconvert_exporter": "python",
   "pygments_lexer": "ipython3",
   "version": "3.7.9"
  }
 },
 "nbformat": 4,
 "nbformat_minor": 4
}
