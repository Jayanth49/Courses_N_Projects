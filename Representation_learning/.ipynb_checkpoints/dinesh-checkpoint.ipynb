{
 "cells": [
  {
   "cell_type": "code",
   "execution_count": 2,
   "metadata": {},
   "outputs": [],
   "source": [
    "import numpy as np\n",
    "import matplotlib.pyplot as plt\n",
    "from scipy.stats import multivariate_normal\n",
    "np.random.seed(21)\n",
    "# random.seed(21)"
   ]
  },
  {
   "cell_type": "code",
   "execution_count": 3,
   "metadata": {},
   "outputs": [],
   "source": [
    "#K-means\n",
    "def intial_mu_k(k,X):\n",
    "    return np.random.randint(low = 0,high = X.shape[0],size = k)\n",
    "\n",
    "def cost_function(mu,cluster_id,X):\n",
    "    cost = 0\n",
    "    for i in range(X.shape[0]):\n",
    "        cost += np.sum((mu[cluster_id[i]]-X[i])**2)\n",
    "    return cost\n",
    "\n",
    "def K_means(k,X,max_iters = 100):\n",
    "    mu_index = intial_mu_k(k,X)\n",
    "    cluster_id = np.zeros(X.shape[0],dtype=int)\n",
    "    \n",
    "    num_iters = 0\n",
    "    error = 1000\n",
    "    cost_values = []\n",
    "    \n",
    "    for i in range(k):\n",
    "        if X.shape[0] == X.size:\n",
    "            mu_data = np.zeros(k)\n",
    "            mu_data[i] = X[mu_index[i]]\n",
    "            \n",
    "        else:    \n",
    "            mu_data = np.zeros((k,2))\n",
    "        \n",
    "            for j in range(X.shape[1]):\n",
    "                mu_data[i][j] = X[mu_index[i]][j]\n",
    "            \n",
    "    while (num_iters < max_iters) and (error > 0.0000001):\n",
    "        \n",
    "#   Updating Cluster_ids\n",
    "        for i in range(X.shape[0]):\n",
    "            if X.shape[0] == X.size:\n",
    "                distances = (mu_data-X[i])**2\n",
    "\n",
    "            else:   \n",
    "                distances = np.sum((mu_data-X[i])**2,axis = 1)\n",
    "                \n",
    "            min_dist = np.amin(distances)\n",
    "            index = -1\n",
    "            for j in range(mu_data.shape[0]):\n",
    "                if distances[j] == min_dist:\n",
    "                    index = j\n",
    "                    break\n",
    "            cluster_id[i] = index\n",
    "            \n",
    "\n",
    "# Update mu's\n",
    "        if X.shape[0] == X.size:\n",
    "           new_mu_data = np.zeros(k)\n",
    "            \n",
    "        else:    \n",
    "            new_mu_data = np.zeros((k,X.shape[1]))\n",
    "    \n",
    "        cluster_size = np.zeros(k)\n",
    "        for i in range(X.shape[0]):\n",
    "            cluster_size[cluster_id[i]] = cluster_size[cluster_id[i]]+1\n",
    "            new_mu_data[cluster_id[i]] = new_mu_data[cluster_id[i]]+X[i]\n",
    "        \n",
    "        for i in range(k):\n",
    "            if cluster_size[i] == 0:\n",
    "                cluster_size[i] = 1\n",
    "                \n",
    "            new_mu_data[i] = new_mu_data[i]/cluster_size[i]\n",
    "        \n",
    "        J = cost_function(mu_data,cluster_id,X)\n",
    "        cost_values.append(J)\n",
    "        error = np.sum(np.abs(mu_data-new_mu_data))\n",
    "        mu_data = new_mu_data\n",
    "        num_iters += 1\n",
    "        print(\"iteration\",num_iters)\n",
    "        print(\"error:\",error)\n",
    "        print(\"cost:\",J)\n",
    "        \n",
    "    return mu_data,cluster_id,cost_values,num_iters"
   ]
  },
  {
   "cell_type": "code",
   "execution_count": 4,
   "metadata": {},
   "outputs": [],
   "source": [
    "mi = []\n",
    "si = []\n",
    "k = 3\n",
    "y = np.array([])\n",
    "for i in range(k):\n",
    "    \n",
    "    mean = (2*i)**2+np.random.rand()\n",
    "    mi.append(mean)\n",
    "    mat = (np.random.rand())*5\n",
    "    si.append(mat)\n",
    "    s = np.random.normal(mean, mat, 10000)\n",
    "    y = np.concatenate([y,s],axis=0)"
   ]
  },
  {
   "cell_type": "code",
   "execution_count": 5,
   "metadata": {},
   "outputs": [
    {
     "name": "stdout",
     "output_type": "stream",
     "text": [
      "iteration 1\n",
      "error: 4.588888076770301\n",
      "cost: 675452.20505461\n",
      "iteration 2\n",
      "error: 4.880983246563263\n",
      "cost: 340887.1039585642\n",
      "iteration 3\n",
      "error: 1.8144704529220526\n",
      "cost: 231237.1810904888\n",
      "iteration 4\n",
      "error: 1.507439412418139\n",
      "cost: 208665.52642988772\n",
      "iteration 5\n",
      "error: 1.3017035601869906\n",
      "cost: 192936.03131981794\n",
      "iteration 6\n",
      "error: 1.0511398336705522\n",
      "cost: 181610.3174302055\n",
      "iteration 7\n",
      "error: 0.8382296991806215\n",
      "cost: 174561.94148310673\n",
      "iteration 8\n",
      "error: 0.6609707124803024\n",
      "cost: 170319.0296176835\n",
      "iteration 9\n",
      "error: 0.497700391858124\n",
      "cost: 167820.89891013625\n",
      "iteration 10\n",
      "error: 0.35335533369706595\n",
      "cost: 166430.29554762636\n",
      "iteration 11\n",
      "error: 0.275370266676144\n",
      "cost: 165710.6889205042\n",
      "iteration 12\n",
      "error: 0.1886418466842155\n",
      "cost: 165301.7235130508\n",
      "iteration 13\n",
      "error: 0.13426381897817366\n",
      "cost: 165107.61845524106\n",
      "iteration 14\n",
      "error: 0.09992900296493445\n",
      "cost: 165001.33212564373\n",
      "iteration 15\n",
      "error: 0.08245101257338418\n",
      "cost: 164941.29622423448\n",
      "iteration 16\n",
      "error: 0.05735567750640744\n",
      "cost: 164903.9397597646\n",
      "iteration 17\n",
      "error: 0.03571235332488719\n",
      "cost: 164887.70333281808\n",
      "iteration 18\n",
      "error: 0.026762209371514856\n",
      "cost: 164879.8463490008\n",
      "iteration 19\n",
      "error: 0.01774337141860817\n",
      "cost: 164875.69999070486\n",
      "iteration 20\n",
      "error: 0.017174797114007143\n",
      "cost: 164873.78732366022\n",
      "iteration 21\n",
      "error: 0.012709562444671071\n",
      "cost: 164872.1238749185\n",
      "iteration 22\n",
      "error: 0.011472482472377157\n",
      "cost: 164870.98969066984\n",
      "iteration 23\n",
      "error: 0.007106318473694598\n",
      "cost: 164870.193770308\n",
      "iteration 24\n",
      "error: 0.004643031371415793\n",
      "cost: 164869.96938973136\n",
      "iteration 25\n",
      "error: 0.008332682579167125\n",
      "cost: 164869.72557767614\n",
      "iteration 26\n",
      "error: 0.008440748220853236\n",
      "cost: 164869.2491950066\n",
      "iteration 27\n",
      "error: 0.006541803559453108\n",
      "cost: 164868.79806902126\n",
      "iteration 28\n",
      "error: 0.00436125511637904\n",
      "cost: 164868.52590181044\n",
      "iteration 29\n",
      "error: 0.004361421904244725\n",
      "cost: 164868.41072715996\n",
      "iteration 30\n",
      "error: 0.0031323451954870934\n",
      "cost: 164868.2987686473\n",
      "iteration 31\n",
      "error: 0.002180942379932771\n",
      "cost: 164868.25280980323\n",
      "iteration 32\n",
      "error: 0.001903319331598971\n",
      "cost: 164868.2257749721\n",
      "iteration 33\n",
      "error: 0.001229438012989803\n",
      "cost: 164868.20131794954\n",
      "iteration 34\n",
      "error: 0.0\n",
      "cost: 164868.1959033368\n"
     ]
    }
   ],
   "source": [
    "mu,cluster_id,cost,num_iters = K_means(k,y)"
   ]
  },
  {
   "cell_type": "code",
   "execution_count": 6,
   "metadata": {},
   "outputs": [
    {
     "data": {
      "text/plain": [
       "Text(0.5, 1.0, 'Cost Function')"
      ]
     },
     "execution_count": 6,
     "metadata": {},
     "output_type": "execute_result"
    },
    {
     "data": {
      "image/png": "[encoded data removed]",
      "text/plain": [
       "<Figure size 432x288 with 1 Axes>"
      ]
     },
     "metadata": {
      "needs_background": "light"
     },
     "output_type": "display_data"
    }
   ],
   "source": [
    "x = []\n",
    "for i in range(num_iters):\n",
    "    x.append(i)\n",
    "plt.plot(x,cost)\n",
    "plt.title(\"Cost Function\")"
   ]
  },
  {
   "cell_type": "code",
   "execution_count": 7,
   "metadata": {},
   "outputs": [],
   "source": [
    "# GMM-2\n",
    "# let mu , cluster_ids, cluster_sizes are returned from kmeans\n",
    "# data is input data\n",
    "# k is number of gaussians in mixture\n",
    "\n",
    "def compute(X,weights,means,sigma,k):\n",
    "    temp = np.zeros((X.shape[0],k))\n",
    "    \n",
    "    for i in range(k):\n",
    "        p = weights[i]\n",
    "        liklihood = multivariate_normal.pdf(X,means[i],sigma[i])\n",
    "        temp[:,i] = p*liklihood\n",
    "        \n",
    "    likihod = np.sum(temp,axis = 1)\n",
    "    log_likihod = np.log(likihod)\n",
    "        \n",
    "    return np.sum(log_likihod)\n",
    "\n",
    "def EM(data,mu,cluster_ids,cluster_size,k,maxiters = 1000):\n",
    "# 1) Initilization\n",
    "\n",
    "    means = []\n",
    "    sigma = []\n",
    "    weights = []\n",
    "    cluster = []\n",
    "    gamma = np.zeros((data.shape[0],k))\n",
    "    \n",
    "    for i in range(k):\n",
    "        means.append(mu[i])\n",
    "        cluster.append([])\n",
    "\n",
    "    for i in range(data.shape[0]):\n",
    "        cluster[cluster_id[i]].append(data[i])\n",
    "\n",
    "\n",
    "    for i in range(k):\n",
    "        delta = np.asarray(cluster[i])-means[i]\n",
    "        sigma.append(np.dot(delta.T,delta)/cluster_size[i])\n",
    "        weights.append(cluster_size[i]/data.shape[0])\n",
    "    \n",
    "# ----------FINE_1\n",
    "\n",
    "\n",
    "# 2) \n",
    "    cost = []\n",
    "    num_clusters = k\n",
    "    \n",
    "    likli = compute(data,weights,means,sigma,k)\n",
    "    cost.append(likli)\n",
    "    num_iters = 0\n",
    "    error = 10.0\n",
    "    N = data.shape[0]\n",
    "    \n",
    "    \n",
    "    while num_iters < maxiters and error > 2 : \n",
    "        \n",
    "        for i in range(N):\n",
    "            for j in range(num_clusters):\n",
    "                gamma[i,j] = weights[j]*multivariate_normal.pdf(data[i],means[j],sigma[j])\n",
    "        r_sum = gamma.sum(axis=1)[:,np.newaxis]\n",
    "        gamma = gamma/r_sum\n",
    "\n",
    "\n",
    "### M_step: M-step in EM Algorithm\n",
    "        count = np.sum(gamma,axis=0)\n",
    "        for i in range(num_clusters):\n",
    "# print(type(weights),type(count))\n",
    "    \n",
    "            weights[i] = count[i]/N\n",
    "    \n",
    "            w_sum = 0\n",
    "            for j in range(N):\n",
    "                w_sum += (gamma[j,i]*data[j])\n",
    "            means[i] = w_sum/count[i]\n",
    "        \n",
    "        \n",
    "            w_sum = 0\n",
    "            for j in range(N):\n",
    "                w_sum += (gamma[j,i]* np.outer(data[j]-means[i],data[j]-means[i]))\n",
    "            sigma[i] = w_sum/count[i]\n",
    "            \n",
    "        latest_likilhood = compute(data,weights,means,sigma,k)\n",
    "        error = np.abs(latest_likilhood-likli)\n",
    "        likli = latest_likilhood\n",
    "        cost.append(likli)\n",
    "        print(error)\n",
    "        print(means)\n",
    "        print(sigma)\n",
    "        print(weights)\n",
    "        \n",
    "    return means,sigma,weights,cost\n",
    "            "
   ]
  },
  {
   "cell_type": "code",
   "execution_count": 8,
   "metadata": {},
   "outputs": [
    {
     "name": "stdout",
     "output_type": "stream",
     "text": [
      "297.64639144622197\n",
      "[8.030480157180554, 0.19791013322844084, 16.7104248356304]\n",
      "[array([[7.78915925]]), array([[4.66098446]]), array([[8.10922875]])]\n",
      "[0.18198137403742254, 0.5012004224131058, 0.3168182035494604]\n",
      "59.75650617686915\n",
      "[7.978133503577907, 0.2352341088896704, 16.616536978452256]\n",
      "[array([[8.52211351]]), array([[4.85779562]]), array([[8.60985999]])]\n",
      "[0.17592212702582968, 0.5031402873228513, 0.32093758565131447]\n",
      "18.961138012862648\n",
      "[7.929668851762711, 0.25327901667380753, 16.558675784656273]\n",
      "[array([[8.92868894]]), array([[4.95534918]]), array([[8.90746078]])]\n",
      "[0.17243108435797252, 0.5038828338042849, 0.3236860818377351]\n",
      "7.774784444642137\n",
      "[7.883732124384298, 0.26198014307887385, 16.51880897188288]\n",
      "[array([[9.15988286]]), array([[5.00580185]]), array([[9.10329555]])]\n",
      "[0.17021142513896506, 0.5040505186618117, 0.32573805619921725]\n",
      "3.9483497821347555\n",
      "[7.839967703457863, 0.26566623318891075, 16.489197651383314]\n",
      "[array([[9.28705071]]), array([[5.03111338]]), array([[9.24118492]])]\n",
      "[0.1686935058332688, 0.5039205882765116, 0.3273859058902169]\n",
      "2.4403127526747994\n",
      "[7.798309721295358, 0.26652430183993847, 16.465885776269644]\n",
      "[array([[9.3488386]]), array([[5.0421656]]), array([[9.3436667]])]\n",
      "[0.16758505123386688, 0.5036354290488965, 0.3287795197172288]\n",
      "1.7706511513097212\n",
      "[7.758754004515185, 0.26576393962431266, 16.446636073609067]\n",
      "[array([[9.36793695]]), array([[5.04489316]]), array([[9.42355229]])]\n",
      "[0.16672163213810384, 0.5032745389287123, 0.3300038289331764]\n"
     ]
    }
   ],
   "source": [
    "cluster_size = np.zeros(k)\n",
    "\n",
    "for i in range(y.shape[0]):\n",
    "    cluster_size[cluster_id[i]] += 1\n",
    "    \n",
    "means,sigma,weights,cost = EM(y,mu,cluster_id,cluster_size,k)"
   ]
  },
  {
   "cell_type": "code",
   "execution_count": 85,
   "metadata": {},
   "outputs": [
    {
     "data": {
      "text/plain": [
       "array([[ 0.2668047 ],\n",
       "       [16.53279287],\n",
       "       [ 7.92603487]])"
      ]
     },
     "execution_count": 85,
     "metadata": {},
     "output_type": "execute_result"
    }
   ],
   "source": [
    "from sklearn import mixture\n",
    "g = mixture.GaussianMixture(n_components=3)\n",
    "g.fit(y.reshape(-1,1))\n",
    "g.means_"
   ]
  },
  {
   "cell_type": "code",
   "execution_count": 86,
   "metadata": {},
   "outputs": [
    {
     "data": {
      "text/plain": [
       "[7.758754004515185, 0.26576393962431266, 16.446636073609067]"
      ]
     },
     "execution_count": 86,
     "metadata": {},
     "output_type": "execute_result"
    }
   ],
   "source": [
    "means"
   ]
  },
  {
   "cell_type": "code",
   "execution_count": 87,
   "metadata": {},
   "outputs": [
    {
     "data": {
      "text/plain": [
       "-9610.929419210861"
      ]
     },
     "execution_count": 87,
     "metadata": {},
     "output_type": "execute_result"
    }
   ],
   "source": [
    "g.score(y.reshape(-1,1))*3000"
   ]
  },
  {
   "cell_type": "code",
   "execution_count": 88,
   "metadata": {},
   "outputs": [
    {
     "data": {
      "text/plain": [
       "[-96491.72423177623,\n",
       " -96194.07784033,\n",
       " -96134.32133415314,\n",
       " -96115.36019614027,\n",
       " -96107.58541169563,\n",
       " -96103.6370619135,\n",
       " -96101.19674916082,\n",
       " -96099.42609800951]"
      ]
     },
     "execution_count": 88,
     "metadata": {},
     "output_type": "execute_result"
    }
   ],
   "source": [
    "cost"
   ]
  },
  {
   "cell_type": "code",
   "execution_count": null,
   "metadata": {},
   "outputs": [],
   "source": [
    "mi"
   ]
  },
  {
   "cell_type": "code",
   "execution_count": null,
   "metadata": {},
   "outputs": [],
   "source": []
  },
  {
   "cell_type": "code",
   "execution_count": null,
   "metadata": {},
   "outputs": [],
   "source": []
  },
  {
   "cell_type": "code",
   "execution_count": null,
   "metadata": {},
   "outputs": [],
   "source": []
  },
  {
   "cell_type": "code",
   "execution_count": null,
   "metadata": {},
   "outputs": [],
   "source": []
  },
  {
   "cell_type": "code",
   "execution_count": null,
   "metadata": {},
   "outputs": [],
   "source": []
  }
 ],
 "metadata": {
  "kernelspec": {
   "display_name": "Python 3",
   "language": "python",
   "name": "python3"
  },
  "language_info": {
   "codemirror_mode": {
    "name": "ipython",
    "version": 3
   },
   "file_extension": ".py",
   "mimetype": "text/x-python",
   "name": "python",
   "nbconvert_exporter": "python",
   "pygments_lexer": "ipython3",
   "version": "3.7.9"
  }
 },
 "nbformat": 4,
 "nbformat_minor": 4
}
