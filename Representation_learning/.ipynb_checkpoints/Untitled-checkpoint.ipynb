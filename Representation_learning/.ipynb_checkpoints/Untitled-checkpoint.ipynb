{
 "cells": [
  {
   "cell_type": "code",
   "execution_count": 131,
   "metadata": {},
   "outputs": [],
   "source": [
    "import struct\n",
    "import numpy as np\n",
    "import matplotlib.pyplot as plt\n",
    "np.random.seed(10)"
   ]
  },
  {
   "cell_type": "code",
   "execution_count": null,
   "metadata": {},
   "outputs": [],
   "source": []
  },
  {
   "cell_type": "code",
   "execution_count": 139,
   "metadata": {},
   "outputs": [],
   "source": [
    "#XOR\n",
    "X = np.array([[0,0,1,1],[0,1,0,1]])\n",
    "y = np.array([[0],\n",
    "             [1],\n",
    "             [1],\n",
    "             [0]])\n",
    "\n",
    "W1,W2,b1,b2,c = gradient_decent(X,y)"
   ]
  },
  {
   "cell_type": "code",
   "execution_count": 143,
   "metadata": {},
   "outputs": [
    {
     "data": {
      "text/plain": [
       "array([[0.6494764]])"
      ]
     },
     "execution_count": 143,
     "metadata": {},
     "output_type": "execute_result"
    }
   ],
   "source": [
    "x = np.array([[1]\n",
    "              ,[1]])\n",
    "a1,a2,a3 = forward_propagation(x,W1,W2,b1,b2)\n",
    "    \n",
    "a3"
   ]
  },
  {
   "cell_type": "code",
   "execution_count": 25,
   "metadata": {},
   "outputs": [
    {
     "data": {
      "text/plain": [
       "array([0, 1, 1, 0])"
      ]
     },
     "execution_count": 25,
     "metadata": {},
     "output_type": "execute_result"
    }
   ],
   "source": [
    "y"
   ]
  },
  {
   "cell_type": "code",
   "execution_count": 26,
   "metadata": {},
   "outputs": [
    {
     "data": {
      "text/plain": [
       "array([[ 0.71845708, -0.29962723, -0.32426368,  0.66864932]])"
      ]
     },
     "execution_count": 26,
     "metadata": {},
     "output_type": "execute_result"
    }
   ],
   "source": [
    "a3-y"
   ]
  },
  {
   "cell_type": "code",
   "execution_count": null,
   "metadata": {},
   "outputs": [],
   "source": [
    "def cost(X,output_layer_activation,W1,W2,rho,rho_cap,lamda,beta):\n",
    "    output_layer_difference = output_layer_activation - X\n",
    "    MSE = 0.5 * np.sum(np.multiply(output_layer_difference,output_layer_difference))/X.shape[1]\n",
    "    weight_decay = 0.5 * lamda * (np.sum(np.multiply(W1,W1)) + np.sum(np.multiply(W2,W2)))\n",
    "\n",
    "    for j in range(rho_cap.size):\n",
    "        if rho_cap[j] == 1:\n",
    "            rho_cap[j] = 0.99\n",
    "        if rho_cap[j] == 0:\n",
    "            rho_cap[j] = 0.01\n",
    "    KL_divergence = beta * np.sum(rho * np.log(rho/rho_cap) + (1-rho) * np.log((1-rho)/(1-rho_cap)))\n",
    "\n",
    "    cost_here = MSE + weight_decay + KL_divergence\n",
    "    return cost_here\n",
    "    \n",
    "\n",
    "def backprop(X,output_layer_activation,hidden_layer_activation,rho_cap,rho):\n",
    "    output_layer_difference = output_layer_activation - X\n",
    "    \n",
    "    # Gradients\n",
    "\n",
    "    KL_divergence_grad = beta * (-(rho/rho_cap) + ((1-rho)/(1-rho_cap)))\n",
    "\n",
    "    delta_outer = np.multiply(output_layer_difference,np.multiply(output_layer_activation,1-output_layer_activation))\n",
    "    delta_hidden = np.multiply(np.dot(np.transpose(W2),delta_outer) + np.transpose(np.matrix(KL_divergence_grad)),\n",
    "                               np.multiply(hidden_layer_activation,1-hidden_layer_activation))\n",
    "\n",
    "\n",
    "    W1_grad = np.dot(delta_hidden,np.transpose(X))\n",
    "    W2_grad = np.dot(delta_outer,np.transpose(hidden_layer_activation))\n",
    "    b1_grad = delta_hidden\n",
    "    b2_grad = delta_outer\n",
    "\n",
    "    W1_grad = W1_grad / X.shape[1] + lamda * W1\n",
    "    W2_grad = W2_grad / X.shape[1] + lamda * W2\n",
    "    b1_grad = b1_grad / X.shape[1]\n",
    "    b2_grad = b2_grad / X.shape[1]\n",
    "\n",
    "    W1_grad = np.array(W1_grad)\n",
    "    W2_grad = np.array(W2_grad)\n",
    "    b1_grad = np.array(b1_grad)\n",
    "    b2_grad = np.array(b2_grad)\n",
    "    \n",
    "    return W1_grad,W2_grad,b1_grad,b2_grad\n"
   ]
  },
  {
   "cell_type": "code",
   "execution_count": 517,
   "metadata": {},
   "outputs": [],
   "source": [
    "# XOR\n",
    "\n",
    "# Neural-net structure\n",
    "number_of_input_nodes = 2\n",
    "number_of_hidden_nodes = 2\n",
    "number_of_output_nodes = 1\n",
    "\n",
    "# Some other parameters for neural_net\n",
    "learning_rate = 0.001\n",
    "max_iters = 10000\n",
    "training_set_size = 4\n",
    "weights_constrain = 0 "
   ]
  },
  {
   "cell_type": "code",
   "execution_count": 518,
   "metadata": {},
   "outputs": [],
   "source": [
    "X = np.array([[0,0,1,1],[0,1,0,1]])\n",
    "y = np.array([[0],\n",
    "             [1],\n",
    "             [1],\n",
    "             [0]])"
   ]
  },
  {
   "cell_type": "code",
   "execution_count": null,
   "metadata": {},
   "outputs": [],
   "source": []
  },
  {
   "cell_type": "code",
   "execution_count": 519,
   "metadata": {},
   "outputs": [
    {
     "ename": "TypeError",
     "evalue": "normal() got an unexpected keyword argument 'dtype'",
     "output_type": "error",
     "traceback": [
      "\u001b[1;31m---------------------------------------------------------------------------\u001b[0m",
      "\u001b[1;31mTypeError\u001b[0m                                 Traceback (most recent call last)",
      "\u001b[1;32m<ipython-input-519-951467ba7eb0>\u001b[0m in \u001b[0;36m<module>\u001b[1;34m\u001b[0m\n\u001b[1;32m----> 1\u001b[1;33m \u001b[0mW1\u001b[0m\u001b[1;33m,\u001b[0m\u001b[0mW2\u001b[0m\u001b[1;33m,\u001b[0m\u001b[0mb1\u001b[0m\u001b[1;33m,\u001b[0m\u001b[0mb2\u001b[0m \u001b[1;33m=\u001b[0m \u001b[0minitial_weights\u001b[0m\u001b[1;33m(\u001b[0m\u001b[0mnumber_of_input_nodes\u001b[0m\u001b[1;33m,\u001b[0m\u001b[0mnumber_of_hidden_nodes\u001b[0m\u001b[1;33m,\u001b[0m\u001b[0mnumber_of_output_nodes\u001b[0m\u001b[1;33m)\u001b[0m\u001b[1;33m\u001b[0m\u001b[1;33m\u001b[0m\u001b[0m\n\u001b[0m\u001b[0;32m      2\u001b[0m \u001b[0mW1\u001b[0m\u001b[1;33m,\u001b[0m\u001b[0mW2\u001b[0m\u001b[1;33m,\u001b[0m\u001b[0mb1\u001b[0m\u001b[1;33m,\u001b[0m\u001b[0mb2\u001b[0m\u001b[1;33m,\u001b[0m\u001b[0mcost\u001b[0m \u001b[1;33m=\u001b[0m \u001b[0mgradient_decent\u001b[0m\u001b[1;33m(\u001b[0m\u001b[0mX\u001b[0m\u001b[1;33m,\u001b[0m\u001b[0my\u001b[0m\u001b[1;33m,\u001b[0m\u001b[0mW1\u001b[0m\u001b[1;33m,\u001b[0m\u001b[0mW2\u001b[0m\u001b[1;33m,\u001b[0m\u001b[0mb1\u001b[0m\u001b[1;33m,\u001b[0m\u001b[0mb2\u001b[0m\u001b[1;33m)\u001b[0m\u001b[1;33m\u001b[0m\u001b[1;33m\u001b[0m\u001b[0m\n",
      "\u001b[1;32m<ipython-input-514-ad6ca15f370c>\u001b[0m in \u001b[0;36minitial_weights\u001b[1;34m(number_of_input_nodes, number_of_hidden_nodes, number_of_output_nodes)\u001b[0m\n\u001b[0;32m      1\u001b[0m \u001b[1;31m# Initialising weights and bias: initialised to values near 0(with help of normal distribution)\u001b[0m\u001b[1;33m\u001b[0m\u001b[1;33m\u001b[0m\u001b[1;33m\u001b[0m\u001b[0m\n\u001b[0;32m      2\u001b[0m \u001b[1;32mdef\u001b[0m \u001b[0minitial_weights\u001b[0m\u001b[1;33m(\u001b[0m\u001b[0mnumber_of_input_nodes\u001b[0m\u001b[1;33m,\u001b[0m\u001b[0mnumber_of_hidden_nodes\u001b[0m\u001b[1;33m,\u001b[0m\u001b[0mnumber_of_output_nodes\u001b[0m\u001b[1;33m)\u001b[0m\u001b[1;33m:\u001b[0m\u001b[1;33m\u001b[0m\u001b[1;33m\u001b[0m\u001b[0m\n\u001b[1;32m----> 3\u001b[1;33m     \u001b[0mW1\u001b[0m \u001b[1;33m=\u001b[0m \u001b[0mnp\u001b[0m\u001b[1;33m.\u001b[0m\u001b[0mrandom\u001b[0m\u001b[1;33m.\u001b[0m\u001b[0mnormal\u001b[0m\u001b[1;33m(\u001b[0m\u001b[1;36m0\u001b[0m\u001b[1;33m,\u001b[0m\u001b[1;36m1\u001b[0m\u001b[1;33m,\u001b[0m\u001b[0msize\u001b[0m\u001b[1;33m=\u001b[0m\u001b[1;33m(\u001b[0m\u001b[0mnumber_of_hidden_nodes\u001b[0m\u001b[1;33m,\u001b[0m\u001b[0mnumber_of_input_nodes\u001b[0m\u001b[1;33m)\u001b[0m\u001b[1;33m,\u001b[0m\u001b[0mdtype\u001b[0m \u001b[1;33m=\u001b[0m \u001b[0mnp\u001b[0m\u001b[1;33m.\u001b[0m\u001b[0mfloat64\u001b[0m\u001b[1;33m)\u001b[0m\u001b[1;33m\u001b[0m\u001b[1;33m\u001b[0m\u001b[0m\n\u001b[0m\u001b[0;32m      4\u001b[0m     \u001b[0mW2\u001b[0m \u001b[1;33m=\u001b[0m \u001b[0mnp\u001b[0m\u001b[1;33m.\u001b[0m\u001b[0mrandom\u001b[0m\u001b[1;33m.\u001b[0m\u001b[0mnormal\u001b[0m\u001b[1;33m(\u001b[0m\u001b[1;36m0\u001b[0m\u001b[1;33m,\u001b[0m\u001b[1;36m1\u001b[0m\u001b[1;33m,\u001b[0m\u001b[0msize\u001b[0m\u001b[1;33m=\u001b[0m\u001b[1;33m(\u001b[0m\u001b[0mnumber_of_output_nodes\u001b[0m\u001b[1;33m,\u001b[0m\u001b[0mnumber_of_hidden_nodes\u001b[0m\u001b[1;33m)\u001b[0m\u001b[1;33m,\u001b[0m\u001b[0mdtype\u001b[0m \u001b[1;33m=\u001b[0m \u001b[0mnp\u001b[0m\u001b[1;33m.\u001b[0m\u001b[0mfloat64\u001b[0m\u001b[1;33m)\u001b[0m\u001b[1;33m\u001b[0m\u001b[1;33m\u001b[0m\u001b[0m\n\u001b[0;32m      5\u001b[0m \u001b[1;33m\u001b[0m\u001b[0m\n",
      "\u001b[1;32mmtrand.pyx\u001b[0m in \u001b[0;36mnumpy.random.mtrand.RandomState.normal\u001b[1;34m()\u001b[0m\n",
      "\u001b[1;31mTypeError\u001b[0m: normal() got an unexpected keyword argument 'dtype'"
     ]
    }
   ],
   "source": [
    "W1,W2,b1,b2 = initial_weights(number_of_input_nodes,number_of_hidden_nodes,number_of_output_nodes)\n",
    "W1,W2,b1,b2,cost = gradient_decent(X,y,W1,W2,b1,b2)"
   ]
  },
  {
   "cell_type": "code",
   "execution_count": 520,
   "metadata": {},
   "outputs": [
    {
     "ename": "ValueError",
     "evalue": "x and y must have same first dimension, but have shapes (10000,) and (10,)",
     "output_type": "error",
     "traceback": [
      "\u001b[1;31m---------------------------------------------------------------------------\u001b[0m",
      "\u001b[1;31mValueError\u001b[0m                                Traceback (most recent call last)",
      "\u001b[1;32m<ipython-input-520-09f890a828b2>\u001b[0m in \u001b[0;36m<module>\u001b[1;34m\u001b[0m\n\u001b[0;32m      2\u001b[0m \u001b[1;32mfor\u001b[0m \u001b[0mi\u001b[0m \u001b[1;32min\u001b[0m \u001b[0mrange\u001b[0m\u001b[1;33m(\u001b[0m\u001b[0mmax_iters\u001b[0m\u001b[1;33m)\u001b[0m\u001b[1;33m:\u001b[0m\u001b[1;33m\u001b[0m\u001b[1;33m\u001b[0m\u001b[0m\n\u001b[0;32m      3\u001b[0m     \u001b[0mx\u001b[0m\u001b[1;33m.\u001b[0m\u001b[0mappend\u001b[0m\u001b[1;33m(\u001b[0m\u001b[0mi\u001b[0m\u001b[1;33m)\u001b[0m\u001b[1;33m\u001b[0m\u001b[1;33m\u001b[0m\u001b[0m\n\u001b[1;32m----> 4\u001b[1;33m \u001b[0mplt\u001b[0m\u001b[1;33m.\u001b[0m\u001b[0mplot\u001b[0m\u001b[1;33m(\u001b[0m\u001b[0mx\u001b[0m\u001b[1;33m,\u001b[0m\u001b[0mcost\u001b[0m\u001b[1;33m)\u001b[0m\u001b[1;33m\u001b[0m\u001b[1;33m\u001b[0m\u001b[0m\n\u001b[0m\u001b[0;32m      5\u001b[0m \u001b[0mplt\u001b[0m\u001b[1;33m.\u001b[0m\u001b[0mtitle\u001b[0m\u001b[1;33m(\u001b[0m\u001b[1;34m\"Cost Function\"\u001b[0m\u001b[1;33m)\u001b[0m\u001b[1;33m\u001b[0m\u001b[1;33m\u001b[0m\u001b[0m\n\u001b[0;32m      6\u001b[0m \u001b[1;31m# cost\u001b[0m\u001b[1;33m\u001b[0m\u001b[1;33m\u001b[0m\u001b[1;33m\u001b[0m\u001b[0m\n",
      "\u001b[1;32m~\\anaconda3\\lib\\site-packages\\matplotlib\\pyplot.py\u001b[0m in \u001b[0;36mplot\u001b[1;34m(scalex, scaley, data, *args, **kwargs)\u001b[0m\n\u001b[0;32m   2840\u001b[0m     return gca().plot(\n\u001b[0;32m   2841\u001b[0m         \u001b[1;33m*\u001b[0m\u001b[0margs\u001b[0m\u001b[1;33m,\u001b[0m \u001b[0mscalex\u001b[0m\u001b[1;33m=\u001b[0m\u001b[0mscalex\u001b[0m\u001b[1;33m,\u001b[0m \u001b[0mscaley\u001b[0m\u001b[1;33m=\u001b[0m\u001b[0mscaley\u001b[0m\u001b[1;33m,\u001b[0m\u001b[1;33m\u001b[0m\u001b[1;33m\u001b[0m\u001b[0m\n\u001b[1;32m-> 2842\u001b[1;33m         **({\"data\": data} if data is not None else {}), **kwargs)\n\u001b[0m\u001b[0;32m   2843\u001b[0m \u001b[1;33m\u001b[0m\u001b[0m\n\u001b[0;32m   2844\u001b[0m \u001b[1;33m\u001b[0m\u001b[0m\n",
      "\u001b[1;32m~\\anaconda3\\lib\\site-packages\\matplotlib\\axes\\_axes.py\u001b[0m in \u001b[0;36mplot\u001b[1;34m(self, scalex, scaley, data, *args, **kwargs)\u001b[0m\n\u001b[0;32m   1741\u001b[0m         \"\"\"\n\u001b[0;32m   1742\u001b[0m         \u001b[0mkwargs\u001b[0m \u001b[1;33m=\u001b[0m \u001b[0mcbook\u001b[0m\u001b[1;33m.\u001b[0m\u001b[0mnormalize_kwargs\u001b[0m\u001b[1;33m(\u001b[0m\u001b[0mkwargs\u001b[0m\u001b[1;33m,\u001b[0m \u001b[0mmlines\u001b[0m\u001b[1;33m.\u001b[0m\u001b[0mLine2D\u001b[0m\u001b[1;33m)\u001b[0m\u001b[1;33m\u001b[0m\u001b[1;33m\u001b[0m\u001b[0m\n\u001b[1;32m-> 1743\u001b[1;33m         \u001b[0mlines\u001b[0m \u001b[1;33m=\u001b[0m \u001b[1;33m[\u001b[0m\u001b[1;33m*\u001b[0m\u001b[0mself\u001b[0m\u001b[1;33m.\u001b[0m\u001b[0m_get_lines\u001b[0m\u001b[1;33m(\u001b[0m\u001b[1;33m*\u001b[0m\u001b[0margs\u001b[0m\u001b[1;33m,\u001b[0m \u001b[0mdata\u001b[0m\u001b[1;33m=\u001b[0m\u001b[0mdata\u001b[0m\u001b[1;33m,\u001b[0m \u001b[1;33m**\u001b[0m\u001b[0mkwargs\u001b[0m\u001b[1;33m)\u001b[0m\u001b[1;33m]\u001b[0m\u001b[1;33m\u001b[0m\u001b[1;33m\u001b[0m\u001b[0m\n\u001b[0m\u001b[0;32m   1744\u001b[0m         \u001b[1;32mfor\u001b[0m \u001b[0mline\u001b[0m \u001b[1;32min\u001b[0m \u001b[0mlines\u001b[0m\u001b[1;33m:\u001b[0m\u001b[1;33m\u001b[0m\u001b[1;33m\u001b[0m\u001b[0m\n\u001b[0;32m   1745\u001b[0m             \u001b[0mself\u001b[0m\u001b[1;33m.\u001b[0m\u001b[0madd_line\u001b[0m\u001b[1;33m(\u001b[0m\u001b[0mline\u001b[0m\u001b[1;33m)\u001b[0m\u001b[1;33m\u001b[0m\u001b[1;33m\u001b[0m\u001b[0m\n",
      "\u001b[1;32m~\\anaconda3\\lib\\site-packages\\matplotlib\\axes\\_base.py\u001b[0m in \u001b[0;36m__call__\u001b[1;34m(self, data, *args, **kwargs)\u001b[0m\n\u001b[0;32m    271\u001b[0m                 \u001b[0mthis\u001b[0m \u001b[1;33m+=\u001b[0m \u001b[0margs\u001b[0m\u001b[1;33m[\u001b[0m\u001b[1;36m0\u001b[0m\u001b[1;33m]\u001b[0m\u001b[1;33m,\u001b[0m\u001b[1;33m\u001b[0m\u001b[1;33m\u001b[0m\u001b[0m\n\u001b[0;32m    272\u001b[0m                 \u001b[0margs\u001b[0m \u001b[1;33m=\u001b[0m \u001b[0margs\u001b[0m\u001b[1;33m[\u001b[0m\u001b[1;36m1\u001b[0m\u001b[1;33m:\u001b[0m\u001b[1;33m]\u001b[0m\u001b[1;33m\u001b[0m\u001b[1;33m\u001b[0m\u001b[0m\n\u001b[1;32m--> 273\u001b[1;33m             \u001b[1;32myield\u001b[0m \u001b[1;32mfrom\u001b[0m \u001b[0mself\u001b[0m\u001b[1;33m.\u001b[0m\u001b[0m_plot_args\u001b[0m\u001b[1;33m(\u001b[0m\u001b[0mthis\u001b[0m\u001b[1;33m,\u001b[0m \u001b[0mkwargs\u001b[0m\u001b[1;33m)\u001b[0m\u001b[1;33m\u001b[0m\u001b[1;33m\u001b[0m\u001b[0m\n\u001b[0m\u001b[0;32m    274\u001b[0m \u001b[1;33m\u001b[0m\u001b[0m\n\u001b[0;32m    275\u001b[0m     \u001b[1;32mdef\u001b[0m \u001b[0mget_next_color\u001b[0m\u001b[1;33m(\u001b[0m\u001b[0mself\u001b[0m\u001b[1;33m)\u001b[0m\u001b[1;33m:\u001b[0m\u001b[1;33m\u001b[0m\u001b[1;33m\u001b[0m\u001b[0m\n",
      "\u001b[1;32m~\\anaconda3\\lib\\site-packages\\matplotlib\\axes\\_base.py\u001b[0m in \u001b[0;36m_plot_args\u001b[1;34m(self, tup, kwargs)\u001b[0m\n\u001b[0;32m    397\u001b[0m \u001b[1;33m\u001b[0m\u001b[0m\n\u001b[0;32m    398\u001b[0m         \u001b[1;32mif\u001b[0m \u001b[0mx\u001b[0m\u001b[1;33m.\u001b[0m\u001b[0mshape\u001b[0m\u001b[1;33m[\u001b[0m\u001b[1;36m0\u001b[0m\u001b[1;33m]\u001b[0m \u001b[1;33m!=\u001b[0m \u001b[0my\u001b[0m\u001b[1;33m.\u001b[0m\u001b[0mshape\u001b[0m\u001b[1;33m[\u001b[0m\u001b[1;36m0\u001b[0m\u001b[1;33m]\u001b[0m\u001b[1;33m:\u001b[0m\u001b[1;33m\u001b[0m\u001b[1;33m\u001b[0m\u001b[0m\n\u001b[1;32m--> 399\u001b[1;33m             raise ValueError(f\"x and y must have same first dimension, but \"\n\u001b[0m\u001b[0;32m    400\u001b[0m                              f\"have shapes {x.shape} and {y.shape}\")\n\u001b[0;32m    401\u001b[0m         \u001b[1;32mif\u001b[0m \u001b[0mx\u001b[0m\u001b[1;33m.\u001b[0m\u001b[0mndim\u001b[0m \u001b[1;33m>\u001b[0m \u001b[1;36m2\u001b[0m \u001b[1;32mor\u001b[0m \u001b[0my\u001b[0m\u001b[1;33m.\u001b[0m\u001b[0mndim\u001b[0m \u001b[1;33m>\u001b[0m \u001b[1;36m2\u001b[0m\u001b[1;33m:\u001b[0m\u001b[1;33m\u001b[0m\u001b[1;33m\u001b[0m\u001b[0m\n",
      "\u001b[1;31mValueError\u001b[0m: x and y must have same first dimension, but have shapes (10000,) and (10,)"
     ]
    },
    {
     "data": {
      "image/png": "[encoded data removed]",
      "text/plain": [
       "<Figure size 432x288 with 1 Axes>"
      ]
     },
     "metadata": {
      "needs_background": "light"
     },
     "output_type": "display_data"
    }
   ],
   "source": [
    "x = []\n",
    "for i in range(max_iters):\n",
    "    x.append(i)\n",
    "plt.plot(x,cost)\n",
    "plt.title(\"Cost Function\")\n",
    "# cost"
   ]
  },
  {
   "cell_type": "code",
   "execution_count": 458,
   "metadata": {},
   "outputs": [
    {
     "data": {
      "text/plain": [
       "array([[ 1.35558072,  0.79384845],\n",
       "       [-1.514808  , -0.08431195]])"
      ]
     },
     "execution_count": 458,
     "metadata": {},
     "output_type": "execute_result"
    }
   ],
   "source": [
    "W1"
   ]
  },
  {
   "cell_type": "code",
   "execution_count": 459,
   "metadata": {},
   "outputs": [
    {
     "data": {
      "text/plain": [
       "array([[ 0.55432441, -0.70629651]])"
      ]
     },
     "execution_count": 459,
     "metadata": {},
     "output_type": "execute_result"
    }
   ],
   "source": [
    "W2"
   ]
  },
  {
   "cell_type": "code",
   "execution_count": 460,
   "metadata": {},
   "outputs": [
    {
     "data": {
      "text/plain": [
       "array([[0.27277039],\n",
       "       [0.11205962]])"
      ]
     },
     "execution_count": 460,
     "metadata": {},
     "output_type": "execute_result"
    }
   ],
   "source": [
    "b1"
   ]
  },
  {
   "cell_type": "code",
   "execution_count": 461,
   "metadata": {},
   "outputs": [
    {
     "data": {
      "text/plain": [
       "array([[-0.15340687]])"
      ]
     },
     "execution_count": 461,
     "metadata": {},
     "output_type": "execute_result"
    }
   ],
   "source": [
    "b2"
   ]
  },
  {
   "cell_type": "code",
   "execution_count": 88,
   "metadata": {},
   "outputs": [
    {
     "name": "stdout",
     "output_type": "stream",
     "text": [
      "0\n"
     ]
    }
   ],
   "source": [
    "x = np.array([[0]\n",
    "              ,[0]])\n",
    "a1,a2,a3 = forward_propagation(x,W1,W2,b1,b2)\n",
    "if a3 > 0.5:\n",
    "    print(1)\n",
    "else:\n",
    "    print(0)"
   ]
  },
  {
   "cell_type": "code",
   "execution_count": null,
   "metadata": {},
   "outputs": [],
   "source": []
  },
  {
   "cell_type": "code",
   "execution_count": 463,
   "metadata": {},
   "outputs": [],
   "source": [
    "#  AND \n",
    "\n",
    "# Neural-net structure\n",
    "number_of_input_nodes = 2\n",
    "number_of_hidden_nodes = 2\n",
    "number_of_output_nodes = 1\n",
    "\n",
    "# Some other parameters for neural_net\n",
    "learning_rate = 0.01\n",
    "max_iters = 10000\n",
    "training_set_size = 4\n",
    "weights_constrain = 0 "
   ]
  },
  {
   "cell_type": "code",
   "execution_count": 464,
   "metadata": {},
   "outputs": [],
   "source": [
    "X = np.array([[0,0,1,1],[0,1,0,1]])\n",
    "y = np.array([[0],\n",
    "             [0],\n",
    "             [0],\n",
    "             [1]])"
   ]
  },
  {
   "cell_type": "code",
   "execution_count": 465,
   "metadata": {},
   "outputs": [],
   "source": [
    "W1,W2,b1,b2 = initial_weights(number_of_input_nodes,number_of_hidden_nodes,number_of_output_nodes)\n",
    "W1,W2,b1,b2,cost = gradient_decent(X,y,W1,W2,b1,b2)"
   ]
  },
  {
   "cell_type": "code",
   "execution_count": 466,
   "metadata": {},
   "outputs": [
    {
     "data": {
      "text/plain": [
       "Text(0.5, 1.0, 'Cost Function')"
      ]
     },
     "execution_count": 466,
     "metadata": {},
     "output_type": "execute_result"
    },
    {
     "data": {
      "image/png": "[encoded data removed]",
      "text/plain": [
       "<Figure size 432x288 with 1 Axes>"
      ]
     },
     "metadata": {
      "needs_background": "light"
     },
     "output_type": "display_data"
    }
   ],
   "source": [
    "x = []\n",
    "for i in range(max_iters):\n",
    "    x.append(i)\n",
    "plt.plot(x,cost)\n",
    "plt.title(\"Cost Function\")"
   ]
  },
  {
   "cell_type": "code",
   "execution_count": 91,
   "metadata": {},
   "outputs": [
    {
     "name": "stdout",
     "output_type": "stream",
     "text": [
      "1\n"
     ]
    }
   ],
   "source": []
  },
  {
   "cell_type": "code",
   "execution_count": null,
   "metadata": {},
   "outputs": [],
   "source": []
  },
  {
   "cell_type": "code",
   "execution_count": 468,
   "metadata": {},
   "outputs": [],
   "source": [
    "# OR\n",
    "\n",
    "#  AND \n",
    "\n",
    "# Neural-net structure\n",
    "number_of_input_nodes = 2\n",
    "number_of_hidden_nodes = 2\n",
    "number_of_output_nodes = 1\n",
    "\n",
    "# Some other parameters for neural_net\n",
    "learning_rate = 0.01\n",
    "max_iters = 10000\n",
    "training_set_size = 4\n",
    "weights_constrain = 0 "
   ]
  },
  {
   "cell_type": "code",
   "execution_count": 469,
   "metadata": {},
   "outputs": [],
   "source": [
    "X = np.array([[0,0,1,1],[0,1,0,1]])\n",
    "y = np.array([[0],\n",
    "             [1],\n",
    "             [1],\n",
    "             [1]])"
   ]
  },
  {
   "cell_type": "code",
   "execution_count": 470,
   "metadata": {},
   "outputs": [],
   "source": [
    "W1,W2,b1,b2 = initial_weights(number_of_input_nodes,number_of_hidden_nodes,number_of_output_nodes)\n",
    "W1,W2,b1,b2,cost = gradient_decent(X,y,W1,W2,b1,b2)"
   ]
  },
  {
   "cell_type": "code",
   "execution_count": 471,
   "metadata": {},
   "outputs": [
    {
     "data": {
      "text/plain": [
       "Text(0.5, 1.0, 'Cost Function')"
      ]
     },
     "execution_count": 471,
     "metadata": {},
     "output_type": "execute_result"
    },
    {
     "data": {
      "image/png": "[encoded data removed]",
      "text/plain": [
       "<Figure size 432x288 with 1 Axes>"
      ]
     },
     "metadata": {
      "needs_background": "light"
     },
     "output_type": "display_data"
    }
   ],
   "source": [
    "x = []\n",
    "for i in range(max_iters):\n",
    "    x.append(i)\n",
    "plt.plot(x,cost)\n",
    "plt.title(\"Cost Function\")"
   ]
  },
  {
   "cell_type": "code",
   "execution_count": 472,
   "metadata": {},
   "outputs": [
    {
     "name": "stdout",
     "output_type": "stream",
     "text": [
      "1\n"
     ]
    }
   ],
   "source": [
    "x = np.array([1,0])\n",
    "a1,a2,a3 = forward_propagation(x,W1,W2,b1,b2)\n",
    "if a3 > 0.5:\n",
    "    print(1)\n",
    "else:\n",
    "    print(0)"
   ]
  },
  {
   "cell_type": "code",
   "execution_count": null,
   "metadata": {},
   "outputs": [],
   "source": []
  },
  {
   "cell_type": "code",
   "execution_count": null,
   "metadata": {},
   "outputs": [],
   "source": []
  },
  {
   "cell_type": "code",
   "execution_count": 2,
   "metadata": {},
   "outputs": [],
   "source": [
    "#Question-2\n",
    "# Sparse-AutoEncoder\n"
   ]
  },
  {
   "cell_type": "code",
   "execution_count": 341,
   "metadata": {},
   "outputs": [
    {
     "name": "stderr",
     "output_type": "stream",
     "text": [
      "C:\\Users\\Jayanth\\anaconda3\\lib\\site-packages\\ipykernel_launcher.py:5: DeprecationWarning: The binary mode of fromstring is deprecated, as it behaves surprisingly on unicode inputs. Use frombuffer instead\n",
      "  \"\"\"\n"
     ]
    }
   ],
   "source": [
    "def read_idx(filename):\n",
    "    with open(filename, 'rb') as f:\n",
    "        zero, data_type, dims = struct.unpack('>HBB', f.read(4))\n",
    "        shape = tuple(struct.unpack('>I', f.read(4))[0] for d in range(dims))\n",
    "        return np.fromstring(f.read(), dtype=np.uint8).reshape(shape)\n",
    "\n",
    "train_images = read_idx('train-images-idx3-ubyte')\n",
    "train_labels = read_idx('train-labels-idx1-ubyte')"
   ]
  },
  {
   "cell_type": "code",
   "execution_count": 342,
   "metadata": {},
   "outputs": [],
   "source": [
    "def get_data(num_of_samples,train_images,train_labels,sampled_size = 28):\n",
    "    dataset = np.zeros((sampled_size*sampled_size,num_of_samples))\n",
    "    label_dataset = np.zeros(num_of_samples)\n",
    "    \n",
    "#     No down-sampling\n",
    "    for i in range(num_of_samples):\n",
    "        dataset[:,i] = train_images[i].flatten()\n",
    "        label_dataset[i] = train_labels[i]\n",
    "        \n",
    "#     print(train_labels.shape)\n",
    "    return dataset,label_dataset"
   ]
  },
  {
   "cell_type": "code",
   "execution_count": 343,
   "metadata": {},
   "outputs": [],
   "source": [
    "X,y  = get_data(2,train_images,train_labels)"
   ]
  },
  {
   "cell_type": "code",
   "execution_count": 344,
   "metadata": {},
   "outputs": [
    {
     "data": {
      "text/plain": [
       "(2,)"
      ]
     },
     "execution_count": 344,
     "metadata": {},
     "output_type": "execute_result"
    }
   ],
   "source": [
    "y.shape"
   ]
  },
  {
   "cell_type": "code",
   "execution_count": 7,
   "metadata": {},
   "outputs": [
    {
     "ename": "NameError",
     "evalue": "name 'images' is not defined",
     "output_type": "error",
     "traceback": [
      "\u001b[1;31m---------------------------------------------------------------------------\u001b[0m",
      "\u001b[1;31mNameError\u001b[0m                                 Traceback (most recent call last)",
      "\u001b[1;32m<ipython-input-7-3635c7c2acd3>\u001b[0m in \u001b[0;36m<module>\u001b[1;34m\u001b[0m\n\u001b[0;32m      1\u001b[0m \u001b[1;31m# Neural-net structure\u001b[0m\u001b[1;33m\u001b[0m\u001b[1;33m\u001b[0m\u001b[1;33m\u001b[0m\u001b[0m\n\u001b[1;32m----> 2\u001b[1;33m \u001b[0mnumber_of_input_nodes\u001b[0m \u001b[1;33m=\u001b[0m \u001b[0mimages\u001b[0m\u001b[1;33m.\u001b[0m\u001b[0mshape\u001b[0m\u001b[1;33m[\u001b[0m\u001b[1;36m0\u001b[0m\u001b[1;33m]\u001b[0m\u001b[1;33m\u001b[0m\u001b[1;33m\u001b[0m\u001b[0m\n\u001b[0m\u001b[0;32m      3\u001b[0m \u001b[0mnumber_of_hidden_nodes\u001b[0m \u001b[1;33m=\u001b[0m \u001b[1;36m100\u001b[0m\u001b[1;33m\u001b[0m\u001b[1;33m\u001b[0m\u001b[0m\n\u001b[0;32m      4\u001b[0m \u001b[0mnumber_of_output_nodes\u001b[0m \u001b[1;33m=\u001b[0m \u001b[0mimages\u001b[0m\u001b[1;33m.\u001b[0m\u001b[0mshape\u001b[0m\u001b[1;33m[\u001b[0m\u001b[1;36m0\u001b[0m\u001b[1;33m]\u001b[0m\u001b[1;33m\u001b[0m\u001b[1;33m\u001b[0m\u001b[0m\n\u001b[0;32m      5\u001b[0m \u001b[1;33m\u001b[0m\u001b[0m\n",
      "\u001b[1;31mNameError\u001b[0m: name 'images' is not defined"
     ]
    }
   ],
   "source": [
    "# Neural-net structure\n",
    "number_of_input_nodes = images.shape[0]\n",
    "number_of_hidden_nodes = 100\n",
    "number_of_output_nodes = images.shape[0]\n",
    "\n",
    "# Some other parameters for neural_net\n",
    "learning_rate = 0.01\n",
    "max_iters = 1500\n",
    "# training_set_size = \n",
    "# m =  \n",
    "weights_constrain = 0"
   ]
  },
  {
   "cell_type": "code",
   "execution_count": 13,
   "metadata": {},
   "outputs": [],
   "source": [
    "# # Initialising weights and bias: initialised to values near 0(with help of normal distribution)\n",
    "# def initial_weights(number_of_input_nodes,number_of_hidden_nodes,number_of_output_nodes):\n",
    "#     W1 = np.random.normal(0,1,size=(number_of_hidden_nodes,number_of_input_nodes))\n",
    "#     W2 = np.random.normal(0,1,size=(number_of_output_nodes,number_of_hidden_nodes))\n",
    "    \n",
    "#     b1 = np.random.normal(0,1,size=(number_of_hidden_nodes,1))\n",
    "#     b2 = np.random.normal(0,1,size=(number_of_output_nodes,1))\n",
    "#     return W1,W2,b1,b2\n",
    "\n",
    "def sigmoid(Z):\n",
    "#     print(Z)\n",
    "    return 1/(1+np.exp(-Z))\n",
    "\n",
    "# def forward_propagation(x,W1,W2,b1,b2):\n",
    "#     a1 = x.reshape(x.shape[0],1) # 2x1\n",
    "    \n",
    "#     z2 = W1.dot(a1)+b1\n",
    "#     a2 = sigmoid(z2) #2x1\n",
    "    \n",
    "#     z3 = W2.dot(a2)+b2\n",
    "#     a3 = sigmoid(z3) #1x1\n",
    "# #     print(\"a3: \",a3.shape)\n",
    "    \n",
    "#     return a1,a2,a3\n",
    "\n",
    "\n",
    "\n",
    "# # def backprop(dw2,dw3,W1,W2,db1,db2,dz1,dz2):\n",
    "\n",
    "# #Gradient for KL divergence\n",
    "# def get_gradient_for_KL(P_cap,P):\n",
    "#     # P_cap is (num_hidden_nodes x 1)\n",
    "#     # P is scalar\n",
    "    \n",
    "#     kl_gradient = np.zeros((P_cap.shape[0],1))\n",
    "#     for i in range(P_cap.shape[0]):\n",
    "#         kl_gradient[i] = (-P/P_cap[i])+((1-P)/(1-P_cap[i]))\n",
    "#     return kl_gradient\n",
    "\n",
    "# #Gradient_decent\n",
    "# def gradient_decent(X,y,W1,W2,b1,b2,Sparse_autoencoder = False, P = 0.1, beta = 3):\n",
    "#     cost_list = []\n",
    "#     m = X.shape[1]\n",
    "#     eplison = 1e-4\n",
    "    \n",
    "#     for i in range(max_iters):\n",
    "#         cost = 0\n",
    "\n",
    "#         dw1 = 0\n",
    "#         dw2 = 0\n",
    "#         db1 = 0\n",
    "#         db2 = 0\n",
    "        \n",
    "#         p = np.zeros((number_of_hidden_nodes,1))\n",
    "        \n",
    "#         if Sparse_autoencoder:\n",
    "#             for j in range(m):\n",
    "#                 #Forward prop\n",
    "#                     a1,a2,a3 = forward_propagation(X[:,j],W1,W2,b1,b2)\n",
    "#                     p += a2\n",
    "                    \n",
    "#         p /= m\n",
    "#         p += eplison\n",
    "#         # p denotes probability of firing\n",
    "        \n",
    "#         for j in range(m):\n",
    "            \n",
    "#         #Forward prop\n",
    "#             a1,a2,a3 = forward_propagation(X[:,j],W1,W2,b1,b2)\n",
    "#         #Back Prop\n",
    "#             if not Sparse_autoencoder:\n",
    "#                 dz3 = a3-y[j] # 1x1\n",
    "#                 dw2 += dz3.dot(a2.T) # 1x2\n",
    "\n",
    "#                 dz2 = np.multiply((W2.T*dz3),a2*(1-a2)) # 2x1 # (delta's)\n",
    "#                 dw1 += dz2.dot(a1.T)\n",
    "\n",
    "#                 db1 += dz2\n",
    "#                 db2 += dz3\n",
    "#             else:\n",
    "                \n",
    "#                 dz3 = a3-y[:,j].reshape((X.shape[0],1)) # 784x1\n",
    "#                 dw2 = dz3.dot(a2.T) # 784x1 . 1x100 = 784x100\n",
    "                \n",
    "#                 # Need to run over all training set to get P_cap:\n",
    "#                 # Need to calculate P_cap[1],P_cap[2] and (find hidden_nodes)x1 KL divergence gradient vector the add to dz2\n",
    "                \n",
    "#                 KL_divergence_gradient = get_gradient_for_KL(p,P)\n",
    "#                 dz2 = np.multiply((W2.T@dz3),a2*(1-a2)) + KL_divergence_gradient\n",
    "#                 dw1 += dz2.dot(a1.T)\n",
    "\n",
    "#                 db1 += dz2\n",
    "#                 db2 += dz3\n",
    "            \n",
    "#         # Cost: taking logistic cost function(like classification problem) \n",
    "# #             cost += -((y[j]*np.log(a3)) + ((1-y[j])*np.log(1-a3)))\n",
    "#         cost += np.sum((y-a3)**2)\n",
    "        \n",
    "#         W1 = W1 - (learning_rate*(dw1/m) + ((weights_constrain/m) * W1))\n",
    "#         W2 = W2 - (learning_rate*(dw2/m) + ((weights_constrain/m) * W2))\n",
    "        \n",
    "#         b1 = b1 - (learning_rate*(db1/m))\n",
    "#         b2 = b2 - (learning_rate*(db2/m))\n",
    "        \n",
    "#         KL_error = 0\n",
    "#         for j in range(number_of_hidden_nodes):\n",
    "#             if p[j][0] >= 1:\n",
    "#                 p[j][0] -= 0.001\n",
    "#             KL_error += (P*np.log(P) - P*np.log(p[j][0]) + (1-P)*np.log(1-P) - (1-P)*np.log(1-p[j][0]))\n",
    "            \n",
    "        \n",
    "#         s = ((cost/m)+(weights_constrain/(2*m))*(np.sum(W1**2) + np.sum(W2**2))) + KL_error\n",
    "#         print(KL_error)\n",
    "#         cost_list.append(s)\n",
    "\n",
    "#     return W1,W2,b1,b2,cost_list        \n",
    "\n",
    "# W1,W2,b1,b2 = initial_weights(number_of_input_nodes,number_of_hidden_nodes,number_of_output_nodes)\n",
    "# W1,W2,b1,b2,cost = gradient_decent(images,images,W1,W2,b1,b2,Sparse_autoencoder=True)"
   ]
  },
  {
   "cell_type": "code",
   "execution_count": 9,
   "metadata": {},
   "outputs": [],
   "source": [
    "# x = []\n",
    "# for i in range(max_iters):\n",
    "#     x.append(i)\n",
    "# plt.plot(x,cost)\n",
    "# plt.title(\"Cost Function\")\n",
    "# # cost"
   ]
  },
  {
   "cell_type": "code",
   "execution_count": 143,
   "metadata": {},
   "outputs": [],
   "source": [
    "x = images[:,2].reshape(images[:,1].size,1)"
   ]
  },
  {
   "cell_type": "code",
   "execution_count": 11,
   "metadata": {},
   "outputs": [],
   "source": [
    "a1,a2,a3 = forward_propagation(x,W1,W2,b1,b2)"
   ]
  },
  {
   "cell_type": "code",
   "execution_count": 144,
   "metadata": {},
   "outputs": [
    {
     "ename": "ValueError",
     "evalue": "cannot reshape array of size 156800 into shape (28,28)",
     "output_type": "error",
     "traceback": [
      "\u001b[1;31m---------------------------------------------------------------------------\u001b[0m",
      "\u001b[1;31mValueError\u001b[0m                                Traceback (most recent call last)",
      "\u001b[1;32m<ipython-input-144-d806d026f1d0>\u001b[0m in \u001b[0;36m<module>\u001b[1;34m\u001b[0m\n\u001b[1;32m----> 1\u001b[1;33m \u001b[0mplt\u001b[0m\u001b[1;33m.\u001b[0m\u001b[0mimshow\u001b[0m\u001b[1;33m(\u001b[0m\u001b[0ma3\u001b[0m\u001b[1;33m.\u001b[0m\u001b[0mreshape\u001b[0m\u001b[1;33m(\u001b[0m\u001b[1;36m28\u001b[0m\u001b[1;33m,\u001b[0m\u001b[1;36m28\u001b[0m\u001b[1;33m)\u001b[0m\u001b[1;33m,\u001b[0m\u001b[0mcmap\u001b[0m\u001b[1;33m=\u001b[0m\u001b[1;34m\"gray\"\u001b[0m\u001b[1;33m)\u001b[0m\u001b[1;33m\u001b[0m\u001b[1;33m\u001b[0m\u001b[0m\n\u001b[0m",
      "\u001b[1;31mValueError\u001b[0m: cannot reshape array of size 156800 into shape (28,28)"
     ]
    }
   ],
   "source": [
    "plt.imshow(a3.reshape(28,28),cmap=\"gray\")"
   ]
  },
  {
   "cell_type": "code",
   "execution_count": 178,
   "metadata": {},
   "outputs": [
    {
     "data": {
      "text/plain": [
       "<matplotlib.image.AxesImage at 0x2700577f6c8>"
      ]
     },
     "execution_count": 178,
     "metadata": {},
     "output_type": "execute_result"
    },
    {
     "data": {
      "image/png": "[encoded data removed]",
      "text/plain": [
       "<Figure size 432x288 with 1 Axes>"
      ]
     },
     "metadata": {
      "needs_background": "light"
     },
     "output_type": "display_data"
    }
   ],
   "source": [
    "plt.imshow(x.reshape(28,28),cmap = 'gray')"
   ]
  },
  {
   "cell_type": "code",
   "execution_count": null,
   "metadata": {},
   "outputs": [],
   "source": []
  },
  {
   "cell_type": "code",
   "execution_count": 65,
   "metadata": {},
   "outputs": [],
   "source": [
    "number_of_input_nodes = X.shape[0]\n",
    "number_of_hidden_nodes = 800\n",
    "number_of_output_nodes = X.shape[0]\n",
    "\n",
    "def Sparse_autoencoder(X,number_of_input_nodes,number_of_hidden_nodes,max_iters = 8000):\n",
    "    W1 = np.random.normal(0,1,size=(number_of_hidden_nodes,number_of_input_nodes))\n",
    "    W2 = np.random.normal(0,1,size=(number_of_input_nodes,number_of_hidden_nodes))\n",
    "    \n",
    "    b1 = np.random.normal(0,1,size=(number_of_hidden_nodes,1))\n",
    "    b2 = np.random.normal(0,1,size=(number_of_input_nodes,1))\n",
    "    \n",
    "    lamda = 0.1\n",
    "    beta = 0.00001\n",
    "    rho = 0.1\n",
    "    learning_rate = 0.01\n",
    "    \n",
    "    cost_list = []\n",
    "    \n",
    "    for i in range(max_iters):\n",
    "\n",
    "        # Forward\n",
    "        hidden_layer_activation = sigmoid(np.dot(W1,X) + b1)\n",
    "        output_layer_activation = sigmoid(np.dot(W2,hidden_layer_activation) + b2)\n",
    "\n",
    "        rho_cap = np.sum(hidden_layer_activation,axis = 1)/X.shape[1]\n",
    "\n",
    "        # Backprop\n",
    "        output_layer_difference = output_layer_activation - X\n",
    "\n",
    "        MSE = 0.5 * np.sum(np.multiply(output_layer_difference,output_layer_difference))/X.shape[1]\n",
    "        weight_decay = 0.5 * lamda * (np.sum(np.multiply(W1,W1)) + np.sum(np.multiply(W2,W2)))\n",
    "\n",
    "        for j in range(rho_cap.size):\n",
    "            if rho_cap[j] == 1:\n",
    "                rho_cap[j] = 0.99\n",
    "            if rho_cap[j] == 0:\n",
    "                rho_cap[j] = 0.01\n",
    "        KL_divergence = beta * np.sum(rho * np.log(rho/rho_cap) + (1-rho) * np.log((1-rho)/(1-rho_cap)))\n",
    "\n",
    "        cost = MSE + weight_decay + KL_divergence\n",
    "\n",
    "        # Gradients\n",
    "\n",
    "        KL_divergence_grad = beta * (-(rho/rho_cap) + ((1-rho)/(1-rho_cap)))\n",
    "\n",
    "        delta_outer = np.multiply(output_layer_difference,np.multiply(output_layer_activation,1-output_layer_activation))\n",
    "        delta_hidden = np.multiply(np.dot(np.transpose(W2),delta_outer) + np.transpose(np.matrix(KL_divergence_grad)),\n",
    "                                   np.multiply(hidden_layer_activation,1-hidden_layer_activation))\n",
    "        \n",
    "\n",
    "        W1_grad = np.dot(delta_hidden,np.transpose(X))\n",
    "        W2_grad = np.dot(delta_outer,np.transpose(hidden_layer_activation))\n",
    "        b1_grad = delta_hidden\n",
    "        b2_grad = delta_outer\n",
    "\n",
    "        W1_grad = W1_grad / X.shape[1] + lamda * W1\n",
    "        W2_grad = W2_grad / X.shape[1] + lamda * W2\n",
    "        b1_grad = b1_grad / X.shape[1]\n",
    "        b2_grad = b2_grad / X.shape[1]\n",
    "\n",
    "        W1_grad = np.array(W1_grad)\n",
    "        W2_grad = np.array(W2_grad)\n",
    "        b1_grad = np.array(b1_grad)\n",
    "        b2_grad = np.array(b2_grad)\n",
    "\n",
    "        W1 = W1 - learning_rate * W1_grad\n",
    "        W2 = W2 - learning_rate * W2_grad\n",
    "        b1 = b1 - learning_rate * b1_grad\n",
    "        b2 = b2 - learning_rate * b2_grad\n",
    "        \n",
    "        cost_list.append(cost)\n",
    "    return W1,W2,b1,b2,cost_list\n",
    "        "
   ]
  },
  {
   "cell_type": "code",
   "execution_count": 66,
   "metadata": {},
   "outputs": [
    {
     "name": "stderr",
     "output_type": "stream",
     "text": [
      "C:\\Users\\Jayanth\\anaconda3\\lib\\site-packages\\ipykernel_launcher.py:12: RuntimeWarning: overflow encountered in exp\n",
      "  if sys.path[0] == '':\n"
     ]
    }
   ],
   "source": [
    "W1,W2,b1,b2,c =  Sparse_autoencoder(X,number_of_input_nodes,number_of_hidden_nodes)"
   ]
  },
  {
   "cell_type": "code",
   "execution_count": 67,
   "metadata": {},
   "outputs": [
    {
     "data": {
      "text/plain": [
       "<matplotlib.image.AxesImage at 0x27eed3cbcc8>"
      ]
     },
     "execution_count": 67,
     "metadata": {},
     "output_type": "execute_result"
    },
    {
     "data": {
      "image/png": "[encoded data removed]",
      "text/plain": [
       "<Figure size 432x288 with 1 Axes>"
      ]
     },
     "metadata": {
      "needs_background": "light"
     },
     "output_type": "display_data"
    }
   ],
   "source": [
    "hidden_layer_activation = sigmoid(np.dot(W1,X) + b1)\n",
    "output_layer_activation = sigmoid(np.dot(W2,hidden_layer_activation) + b2)\n",
    "plt.imshow(output_layer_activation[:,1].reshape(28,28),cmap = 'gray')"
   ]
  },
  {
   "cell_type": "code",
   "execution_count": 68,
   "metadata": {},
   "outputs": [
    {
     "data": {
      "text/plain": [
       "<matplotlib.image.AxesImage at 0x27eed453408>"
      ]
     },
     "execution_count": 68,
     "metadata": {},
     "output_type": "execute_result"
    },
    {
     "data": {
      "image/png": "[encoded data removed]",
      "text/plain": [
       "<Figure size 432x288 with 1 Axes>"
      ]
     },
     "metadata": {
      "needs_background": "light"
     },
     "output_type": "display_data"
    }
   ],
   "source": [
    "plt.imshow(X[:,1].reshape(28,28),cmap = 'gray')"
   ]
  },
  {
   "cell_type": "code",
   "execution_count": 69,
   "metadata": {},
   "outputs": [],
   "source": [
    "import tensorflow as tf\n",
    "\n",
    "from tensorflow.keras import datasets, layers, models\n",
    "import matplotlib.pyplot as plt"
   ]
  },
  {
   "cell_type": "code",
   "execution_count": 70,
   "metadata": {},
   "outputs": [
    {
     "name": "stdout",
     "output_type": "stream",
     "text": [
      "WARNING:tensorflow:From C:\\Users\\Jayanth\\anaconda3\\lib\\site-packages\\tensorflow\\python\\ops\\init_ops.py:1251: calling VarianceScaling.__init__ (from tensorflow.python.ops.init_ops) with dtype is deprecated and will be removed in a future version.\n",
      "Instructions for updating:\n",
      "Call initializer instance with the dtype argument instead of passing it to the constructor\n"
     ]
    }
   ],
   "source": [
    "model = models.Sequential()\n",
    "model.add(layers.Conv2D(32, (3, 3), activation='relu', input_shape=(32, 32, 3)))\n",
    "model.add(layers.MaxPooling2D((2, 2)))\n",
    "model.add(layers.Conv2D(64, (3, 3), activation='relu'))\n",
    "model.add(layers.MaxPooling2D((2, 2)))\n",
    "model.add(layers.Conv2D(64, (3, 3), activation='relu'))"
   ]
  },
  {
   "cell_type": "code",
   "execution_count": 71,
   "metadata": {},
   "outputs": [
    {
     "name": "stdout",
     "output_type": "stream",
     "text": [
      "Model: \"sequential\"\n",
      "_________________________________________________________________\n",
      "Layer (type)                 Output Shape              Param #   \n",
      "=================================================================\n",
      "conv2d (Conv2D)              (None, 30, 30, 32)        896       \n",
      "_________________________________________________________________\n",
      "max_pooling2d (MaxPooling2D) (None, 15, 15, 32)        0         \n",
      "_________________________________________________________________\n",
      "conv2d_1 (Conv2D)            (None, 13, 13, 64)        18496     \n",
      "_________________________________________________________________\n",
      "max_pooling2d_1 (MaxPooling2 (None, 6, 6, 64)          0         \n",
      "_________________________________________________________________\n",
      "conv2d_2 (Conv2D)            (None, 4, 4, 64)          36928     \n",
      "=================================================================\n",
      "Total params: 56,320\n",
      "Trainable params: 56,320\n",
      "Non-trainable params: 0\n",
      "_________________________________________________________________\n"
     ]
    }
   ],
   "source": [
    "model.summary()"
   ]
  },
  {
   "cell_type": "code",
   "execution_count": null,
   "metadata": {},
   "outputs": [],
   "source": []
  }
 ],
 "metadata": {
  "kernelspec": {
   "display_name": "Python 3",
   "language": "python",
   "name": "python3"
  },
  "language_info": {
   "codemirror_mode": {
    "name": "ipython",
    "version": 3
   },
   "file_extension": ".py",
   "mimetype": "text/x-python",
   "name": "python",
   "nbconvert_exporter": "python",
   "pygments_lexer": "ipython3",
   "version": "3.7.9"
  }
 },
 "nbformat": 4,
 "nbformat_minor": 4
}
