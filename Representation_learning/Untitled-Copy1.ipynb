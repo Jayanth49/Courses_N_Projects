{
 "cells": [
  {
   "cell_type": "code",
   "execution_count": 212,
   "metadata": {},
   "outputs": [],
   "source": [
    "import numpy as np\n",
    "import matplotlib.pyplot as plt\n",
    "import seaborn as sns\n",
    "import random\n",
    "from scipy.stats import multivariate_normal"
   ]
  },
  {
   "cell_type": "code",
   "execution_count": 250,
   "metadata": {},
   "outputs": [
    {
     "data": {
      "text/plain": [
       "<matplotlib.collections.PathCollection at 0x29da5dedd88>"
      ]
     },
     "execution_count": 250,
     "metadata": {},
     "output_type": "execute_result"
    },
    {
     "data": {
      "image/png": "[encoded data removed]",
      "text/plain": [
       "<Figure size 432x288 with 1 Axes>"
      ]
     },
     "metadata": {
      "needs_background": "light"
     },
     "output_type": "display_data"
    }
   ],
   "source": [
    "#Generating data\n",
    "k = 3\n",
    "X = np.array([[1,1]])\n",
    "for i in range(k):\n",
    "    mean = (i**3+random.random(),i**3+random.random())\n",
    "    mat = np.random.rand(2,2)*2\n",
    "    cov = mat@mat.T\n",
    "    s = np.random.multivariate_normal(mean, cov, 1000)\n",
    "    X = np.concatenate([X,s],axis=0)\n",
    "    \n",
    "plt.scatter(X[:, 0], X[:, 1])"
   ]
  },
  {
   "cell_type": "code",
   "execution_count": 251,
   "metadata": {},
   "outputs": [],
   "source": [
    "N = X.shape[0]\n",
    "\n",
    "#K-means\n",
    "def intial_mu_k(k,X):\n",
    "#     we will take return's row as intial\n",
    "    np.random.seed(11)\n",
    "    return np.random.randint(low = 0,high = X.shape[0],size = k)\n",
    "\n",
    "def cost_function(mu,cluster_id,X):\n",
    "    cost = 0\n",
    "    for i in range(X.shape[0]):\n",
    "        cost += np.sum((mu[cluster_id[i]]-X[i])**2)\n",
    "    return cost\n",
    "\n",
    "def K_means(k,X,max_iters = 100):\n",
    "    mu_index = intial_mu_k(k,X)\n",
    "    cluster_id = np.zeros(X.shape[0],dtype=int)\n",
    "    print((cluster_id).shape)\n",
    "    \n",
    "    num_iters = 0\n",
    "    error = 1000\n",
    "    cost_values = []\n",
    "    \n",
    "    mu_data = np.zeros((k,2))\n",
    "    for i in range(k):\n",
    "#         note here 2--depends on dimension\n",
    "        for j in range(2):\n",
    "            mu_data[i][j] = X[mu_index[i]][j]\n",
    "            \n",
    "#     print(\"mu\",mu_data)\n",
    "    while (num_iters < max_iters) and (error > 0.0000001):\n",
    "        \n",
    "#   Updating Cluster_ids\n",
    "        for i in range(X.shape[0]):\n",
    "            distances = np.sum((mu_data-X[i])**2,axis = 1)\n",
    "            min_dist = np.amin(distances)\n",
    "            index = -1\n",
    "            for j in range(mu_data.shape[0]):\n",
    "                if distances[j] == min_dist:\n",
    "                    index = j\n",
    "                    break\n",
    "            cluster_id[i] = index\n",
    "            \n",
    "#         print(cluster_id)\n",
    "\n",
    "# Update mu's\n",
    "        new_mu_data = np.zeros((k,2))\n",
    "        cluster_size = np.zeros(k)\n",
    "        for i in range(X.shape[0]):\n",
    "            cluster_size[cluster_id[i]] = cluster_size[cluster_id[i]]+1\n",
    "            new_mu_data[cluster_id[i]] = new_mu_data[cluster_id[i]]+X[i]\n",
    "        \n",
    "#         print(\"Cluster_size\",cluster_size)\n",
    "        for i in range(k):\n",
    "            if cluster_size[i] == 0:\n",
    "                cluster_size[i] = 1\n",
    "                \n",
    "            new_mu_data[i] = new_mu_data[i]/cluster_size[i]\n",
    "        \n",
    "        J = cost_function(mu_data,cluster_id,X)\n",
    "        cost_values.append(J)\n",
    "#         print(new_mu_data,mu_data)\n",
    "        error = np.sum(np.abs(mu_data-new_mu_data))\n",
    "        mu_data = new_mu_data\n",
    "        num_iters += 1\n",
    "        print(\"iteration\",num_iters)\n",
    "        print(\"error:\",error)\n",
    "        print(\"cost:\",J)\n",
    "        \n",
    "    return mu_data,cluster_id,cost_values,num_iters"
   ]
  },
  {
   "cell_type": "code",
   "execution_count": 252,
   "metadata": {},
   "outputs": [
    {
     "name": "stdout",
     "output_type": "stream",
     "text": [
      "(3001,)\n",
      "iteration 1\n",
      "error: 9.129395001530945\n",
      "cost: 97728.28100736359\n",
      "iteration 2\n",
      "error: 6.133102494093802\n",
      "cost: 26311.69168533065\n",
      "iteration 3\n",
      "error: 0.9999499684837934\n",
      "cost: 11556.707088815667\n",
      "iteration 4\n",
      "error: 0.2904295378248871\n",
      "cost: 11274.865235607991\n",
      "iteration 5\n",
      "error: 0.11732043174222317\n",
      "cost: 11251.514614528367\n",
      "iteration 6\n",
      "error: 0.07190548849567815\n",
      "cost: 11246.948213296426\n",
      "iteration 7\n",
      "error: 0.07656165807845626\n",
      "cost: 11244.6130371406\n",
      "iteration 8\n",
      "error: 0.029307527675730798\n",
      "cost: 11242.673534293494\n",
      "iteration 9\n",
      "error: 0.03904771570338479\n",
      "cost: 11242.169371543554\n",
      "iteration 10\n",
      "error: 0.03254967702183729\n",
      "cost: 11241.446778383217\n",
      "iteration 11\n",
      "error: 0.014601127153935044\n",
      "cost: 11241.09807774706\n",
      "iteration 12\n",
      "error: 0.00487773048088657\n",
      "cost: 11241.024111441646\n",
      "iteration 13\n",
      "error: 0.0\n",
      "cost: 11241.017338579553\n"
     ]
    }
   ],
   "source": [
    "mu,cluster_id,cost,num_iters = K_means(k,X)"
   ]
  },
  {
   "cell_type": "code",
   "execution_count": 253,
   "metadata": {},
   "outputs": [
    {
     "data": {
      "text/plain": [
       "Text(0.5, 1.0, 'Cost Function')"
      ]
     },
     "execution_count": 253,
     "metadata": {},
     "output_type": "execute_result"
    },
    {
     "data": {
      "image/png": "[encoded data removed]",
      "text/plain": [
       "<Figure size 432x288 with 1 Axes>"
      ]
     },
     "metadata": {
      "needs_background": "light"
     },
     "output_type": "display_data"
    }
   ],
   "source": [
    "#Cost graph\n",
    "x = []\n",
    "for i in range(num_iters):\n",
    "    x.append(i)\n",
    "plt.plot(x,cost)\n",
    "plt.title(\"Cost Function\")"
   ]
  },
  {
   "cell_type": "code",
   "execution_count": 254,
   "metadata": {},
   "outputs": [],
   "source": [
    "# X-->N*D\n",
    "# Z-->N*K\n",
    "\n",
    "# for needed intialization needed N_k,mu_k,sigma_k,pi_k\n",
    "\n",
    "def intiliase_for_GMM(mu,cluster_id,X,k):\n",
    "    mu_k = []\n",
    "    sigma_k = []\n",
    "    pi_k = []\n",
    "    clusters = []   \n",
    "    cluster_size = np.zeros(k)\n",
    "    Z = np.zeros((X.shape[0],k))\n",
    "\n",
    "    # for sigma\n",
    "    for i in range(k):\n",
    "        mu_k.append(mu[i])\n",
    "        clusters.append([])\n",
    "\n",
    "\n",
    "    for i in range(X.shape[0]):\n",
    "        cluster_size[cluster_id[i]] = cluster_size[cluster_id[i]]+1\n",
    "        clusters[cluster_id[i]].append(X[i])\n",
    "\n",
    "    # np.asarray(clusters[0])\n",
    "    for i in range(k):\n",
    "        A = np.asarray(clusters[i])\n",
    "        sigma_k.append((A-mu_k[i]).T@(A-mu_k[i])/cluster_size[i])\n",
    "        pi_k.append(cluster_size[i]/X.shape[0])\n",
    "        \n",
    "    return mu_k,sigma_k,pi_k,Z\n",
    "    \n",
    "# def add_log_each_point_cost(Z):\n",
    "#     return np.max(Z) + np.log(np.sum(np.exp(Z-np.max(Z))))\n",
    "\n",
    "# def log_likilihood(X,contribution,mu_k,sigma_k,k):\n",
    "    \n",
    "#     answer = 0\n",
    "#     for i in range(X.shape[0]):\n",
    "        \n",
    "# #         temp = np.zeros(k)\n",
    "#         for j in range(k):\n",
    "# #             buffer = X[i]-mu_k[j]\n",
    "# #             e_power = np.dot(buffer.T,np.dot(np.linalg.pinv(sigma_k[j]),buffer))\n",
    "            \n",
    "# #             Z[k] += np.log(contribution[j])\n",
    "# #             Z[k] -= 1/2. *(X.shape[0]*np.log(2*np.pi) + np.log(np.linalg.det(sigma_k[j]))+ e_power)\n",
    "#             temp = multivariate_normal.pdf(X[i],mu_k[j],sigma_k[j])\n",
    "#             temp = contribution[j]*temp\n",
    "#         answer += add_log_each_point_cost(Z)\n",
    "#     return answer\n",
    "\n",
    "def compute(X,pi_k,mu_k,sigma_k,k):\n",
    "    temp = np.zeros((X.shape[0],k))\n",
    "    for i in range(k):\n",
    "        p = pi_k[i]\n",
    "        liklihood = multivariate_normal.pdf(X,mu_k[i],sigma_k[i])\n",
    "        temp[:,i] = p*liklihood\n",
    "    \n",
    "    return np.sum(np.log(np.sum(temp,axis = 1)))\n",
    "    \n",
    "def E_step(Z,mu_k,sigma_k,pi_k,X,k):\n",
    "    for i in range(X.shape[0]):\n",
    "        for j in range(k):\n",
    "            Z[i,j] = pi_k[j]*multivariate_normal.pdf(X[i],mu_k[j],sigma_k[j])\n",
    "    total_row_sum = Z.sum(axis=1)[:,np.newaxis]\n",
    "    Z = Z/total_row_sum\n",
    "    return Z\n",
    "\n",
    "\n",
    "def M_step(X,Z,mu_k,sigma_k,pi_k,k):\n",
    "    count_each_cluster = np.sum(Z,axis=0)\n",
    "    N = X.shape[0]\n",
    "    for i in range(k):\n",
    "    # pi_k^\n",
    "        pi_k[i] = count_each_cluster[i]/N\n",
    "    # mu_k^\n",
    "        soft_sum = 0\n",
    "        for j in range(X.shape[0]):\n",
    "            soft_sum += (Z[j,i]*X[j])\n",
    "        mu_k[i] = soft_sum/count_each_cluster[i]\n",
    "    # sigma_k^k\n",
    "        soft_sum = np.zeros((X.shape[1],X.shape[1]))\n",
    "        for j in range(X.shape[0]):\n",
    "#             soft_sum += (Z[j,i]*((X[j]-mu_k[i]).T@(X[j]-mu_k[i])))\n",
    "            soft_sum += (Z[j,i]* np.outer(X[j]-mu_k[i],X[j]-mu_k[i]))\n",
    "        sigma_k[i] = soft_sum/count_each_cluster[i]\n",
    "#         print(soft_sum)\n",
    "    return mu_k,sigma_k,pi_k\n",
    "    \n",
    "def EM_main(X,mu,cluster_id,k,max_iters = 100):\n",
    "    mu_k,sigma_k,pi_k,Z = intiliase_for_GMM(mu,cluster_id,X,k)\n",
    "    ll = []\n",
    "    \n",
    "    old_ll = compute(X,pi_k,mu_k,sigma_k,k)\n",
    "    ll.append(old_ll)\n",
    "#     new_ll = 0.0\n",
    "    num_iters = 0\n",
    "    error = 10.0\n",
    "    while (num_iters) < max_iters and error > 1:\n",
    "        Z = E_step(Z,mu_k,sigma_k,pi_k,X,k)\n",
    "        mu_k ,sigma_k,pi_k = M_step(X,Z,mu_k,sigma_k,pi_k,k)\n",
    "        new_ll = compute(X,pi_k,mu_k,sigma_k,k)\n",
    "        ll.append(new_ll)\n",
    "        \n",
    "#         print(type(old_ll),type(new_ll))\n",
    "        error = np.abs(old_ll-new_ll)\n",
    "        old_ll = new_ll\n",
    "    \n",
    "    return ll,mu_k,sigma_k,pi_k"
   ]
  },
  {
   "cell_type": "code",
   "execution_count": 255,
   "metadata": {},
   "outputs": [],
   "source": [
    "l,mu_k,sigma_k,pi_k = EM_main(X,mu,cluster_id,k)"
   ]
  },
  {
   "cell_type": "code",
   "execution_count": 271,
   "metadata": {},
   "outputs": [],
   "source": [
    "def plot_contours(X, mu_k, sigma_k,k,title):\n",
    "    \"\"\"visualize the gaussian components over the data\"\"\"\n",
    "    plt.figure()\n",
    "    plt.plot(X[:, 0], X[:, 1], 'ko')\n",
    "\n",
    "    delta = 0.025\n",
    "#     k = mu_k.shape[0]\n",
    "    x = np.arange(-2.0, 7.0, delta)\n",
    "    y = np.arange(-2.0, 7.0, delta)\n",
    "    x_grid, y_grid = np.meshgrid(x, y)\n",
    "    coordinates = np.array([x_grid.ravel(), y_grid.ravel()]).T\n",
    "\n",
    "    col = ['green', 'red', 'indigo']\n",
    "    for i in range(k):\n",
    "        mean = mu_k[i]\n",
    "        cov = sigma_k[i]\n",
    "        z_grid = multivariate_normal(mean, cov).pdf(coordinates).reshape(x_grid.shape)\n",
    "#         print(z_grid)\n",
    "        plt.contour(x_grid, y_grid, z_grid, colors = col[i])\n",
    "        print(i)\n",
    "\n",
    "#     plt.title(title)\n",
    "    plt.tight_layout()"
   ]
  },
  {
   "cell_type": "code",
   "execution_count": 272,
   "metadata": {},
   "outputs": [
    {
     "name": "stdout",
     "output_type": "stream",
     "text": [
      "0\n",
      "1\n",
      "2\n"
     ]
    },
    {
     "data": {
      "image/png": "[encoded data removed]",
      "text/plain": [
       "<Figure size 432x288 with 1 Axes>"
      ]
     },
     "metadata": {
      "needs_background": "light"
     },
     "output_type": "display_data"
    }
   ],
   "source": [
    "plot_contours(X,mu_k,sigma_k,k,\"lol\")"
   ]
  },
  {
   "cell_type": "code",
   "execution_count": 207,
   "metadata": {},
   "outputs": [
    {
     "data": {
      "text/plain": [
       "array([0.04586674, 0.00025194])"
      ]
     },
     "execution_count": 207,
     "metadata": {},
     "output_type": "execute_result"
    }
   ],
   "source": [
    "np.linalg.eigvals(sigma_k[3])"
   ]
  },
  {
   "cell_type": "code",
   "execution_count": 208,
   "metadata": {},
   "outputs": [
    {
     "data": {
      "text/plain": [
       "array([[0.04320273, 0.0106968 ],\n",
       "       [0.0106968 , 0.00291596]])"
      ]
     },
     "execution_count": 208,
     "metadata": {},
     "output_type": "execute_result"
    }
   ],
   "source": [
    "sigma_k[3]"
   ]
  },
  {
   "cell_type": "code",
   "execution_count": null,
   "metadata": {},
   "outputs": [],
   "source": []
  }
 ],
 "metadata": {
  "kernelspec": {
   "display_name": "Python 3",
   "language": "python",
   "name": "python3"
  },
  "language_info": {
   "codemirror_mode": {
    "name": "ipython",
    "version": 3
   },
   "file_extension": ".py",
   "mimetype": "text/x-python",
   "name": "python",
   "nbconvert_exporter": "python",
   "pygments_lexer": "ipython3",
   "version": "3.7.9"
  }
 },
 "nbformat": 4,
 "nbformat_minor": 4
}
