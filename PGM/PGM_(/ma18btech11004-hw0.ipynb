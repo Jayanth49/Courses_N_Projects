{
 "cells": [
  {
   "cell_type": "code",
   "execution_count": 1,
   "metadata": {},
   "outputs": [],
   "source": [
    "import librosa as lib\n",
    "import numpy as np\n",
    "import matplotlib.pyplot as plt\n",
    "import os\n",
    "from sklearn.model_selection import train_test_split\n",
    "from IPython import display\n",
    "import warnings\n",
    "warnings.filterwarnings('ignore')"
   ]
  },
  {
   "cell_type": "code",
   "execution_count": 2,
   "metadata": {},
   "outputs": [],
   "source": [
    "# I am using go,ma files for this assignment\n",
    "# Making mfcc's with 25ms length and 10 ms overlap for file: filename\n",
    "def make_input(file_name):\n",
    "    l = []\n",
    "    path =\"./\"+ file_name\n",
    "    for i in os.listdir(path):\n",
    "        if i.startswith(file_name):\n",
    "            Path = os.path.join(path,i)\n",
    "            wav,sr = lib.load(Path, duration=0.27, sr=None)\n",
    "            mfccs = lib.feature.mfcc(y=wav, sr=sr, n_mfcc=13, hop_length=int(0.015*sr), n_fft=int(0.025*sr))\n",
    "            l.append(mfccs.T)\n",
    "    return l"
   ]
  },
  {
   "cell_type": "code",
   "execution_count": 3,
   "metadata": {},
   "outputs": [],
   "source": [
    "# scaling_data \n",
    "def scaling_data(X):\n",
    "    mean = np.mean(X,axis = 0)\n",
    "    std = np.std(X,axis = 0)\n",
    "    return (X-mean)/std\n",
    "\n",
    "# scaling and getting train-test split using sklearn library\n",
    "def get_train_test_samples(filename1,filename2):\n",
    "    A_mfcc = make_input(filename1)\n",
    "    B_mfcc = make_input(filename2)\n",
    "    A_mfcc = scaling_data(np.array(A_mfcc))\n",
    "    B_mfcc = scaling_data(np.array(B_mfcc))\n",
    "    A_train,A_test = train_test_split(A_mfcc, test_size=0.2)\n",
    "    B_train,B_test = train_test_split(B_mfcc, test_size=0.2)\n",
    "    return A_train,A_test,B_train,B_test\n",
    "\n",
    "# Data is ready\n",
    "ma_train,ma_test,go_train,go_test = get_train_test_samples(\"ma\",\"go\")"
   ]
  },
  {
   "cell_type": "code",
   "execution_count": 4,
   "metadata": {},
   "outputs": [],
   "source": [
    "# Normal Pdf\n",
    "def normal(x,Mean,covar):\n",
    "    N = x.shape[0]\n",
    "    x,Mean = x.reshape(1,N),Mean.reshape(1,N)\n",
    "    top=np.exp(-0.5*np.matmul(np.matmul(x-Mean,np.linalg.inv(covar)),(x-Mean).T))\n",
    "    bot=np.sqrt(np.linalg.det(covar)*((2*np.pi)**N))\n",
    "    return np.asscalar(top/bot)\n",
    "\n",
    "# Function to run forward and backward pass to get alphas and betas\n",
    "def alpha_beta(x,pis,weights,mean,covar,k):\n",
    "    N = x.shape[0]\n",
    "    alphas = []\n",
    "    betas = []\n",
    "    i=0\n",
    "    c = np.zeros(N)  # For scaling(alpha,beta) purpose\n",
    "    for i in range(N):\n",
    "        probs = np.zeros((1,k))\n",
    "        for j in range(k):\n",
    "            probs[0][j] = normal(x[i],mean[j],covar[j])\n",
    "        if(i==0): # for Base case\n",
    "            temp = pis*probs\n",
    "            c[i] = 1.0 / np.sum(temp)\n",
    "            alphas.append(c[i] * temp)    \n",
    "        else: # for remaining cases \n",
    "            temp = probs*np.matmul(alphas[-1],weights)\n",
    "            c[i] = 1.0 / np.sum(temp)\n",
    "            alphas.append(c[i] * temp)\n",
    "    i = N-1\n",
    "    while(i>=0):\n",
    "        probs = np.zeros((k,1))\n",
    "        for j in range(k):\n",
    "            probs[j][0] = normal(x[i],mean[j],covar[j])\n",
    "        if(i==N-1): # base case\n",
    "            temp = np.ones((k,1))\n",
    "            betas.append(temp)\n",
    "        else: # for remaining cases \n",
    "            temp = np.matmul(weights,betas[-1]*probs)\n",
    "            betas.append( temp * c[i])\n",
    "        i=i-1\n",
    "        \n",
    "    # Converting all alphas and betas to arrays to make calculations ease\n",
    "    alphas = np.array(alphas)\n",
    "    betas = np.array(betas)\n",
    "    betas = betas[::-1]\n",
    "    lik = -np.sum(np.log(c)) # Our liklihood\n",
    "    \n",
    "#     print(lik)\n",
    "    return alphas,betas,c,lik\n",
    "\n",
    "\n",
    "# Function to find gamma\n",
    "def gamma(alphas,betas,k):\n",
    "    N = alphas.shape[0]\n",
    "#     print(alpha.shape,beta.shape)\n",
    "    gammas = np.zeros_like(alphas)\n",
    "    for i in range(0,N):\n",
    "        gammas[i] = ((alphas[i]*betas[i].reshape(1,k))/np.sum(alphas[-1]))\n",
    "#     print(gammas.shape)\n",
    "    return gammas\n",
    "\n",
    "# Function to get epsilon\n",
    "def epsilon(x,alphas,betas,co_efficents,mean,sigma,k):\n",
    "    epsilons = np.zeros((alphas.shape[0],betas.shape[1],alphas.shape[2]))\n",
    "    pis = np.zeros((1,k))\n",
    "    for i in range(0,len(alphas)):\n",
    "        prob = np.zeros((1,k))\n",
    "        for j in range(0,k):\n",
    "            prob[0][j] = normal(x[i],mean[j],sigma[j])\n",
    "        epsilons[i] = np.matmul(np.matmul(co_efficents,alphas[i-1].T),(prob*betas[i].reshape(prob.shape)))/np.sum(alphas[-1])\n",
    "#         print(epsilons[i].shape)\n",
    "    return epsilons"
   ]
  },
  {
   "cell_type": "code",
   "execution_count": 5,
   "metadata": {},
   "outputs": [],
   "source": [
    "# Expection step of EM-algo\n",
    "def E_estimate_Parameters(X_train,Pi,A,mean,sigma,k):\n",
    "    alphas,betas,c,lik = alpha_beta(X_train,Pi,A,mean,sigma,k)\n",
    "#     print(c,c.shape)\n",
    "    gammas = gamma(alphas,betas,k)\n",
    "#     print(gamma.T)\n",
    "#     print(np.log(l))\n",
    "#     print(alpha.shape,beta.shape)\n",
    "    epsilons = epsilon(X_train,alphas,betas,A,mean,sigma,k)\n",
    "#     print(lik)\n",
    "    return alphas,betas,gammas,epsilons,lik\n",
    "\n",
    "# Maximization step\n",
    "def M_update_Parameters(X_train,alphas,betas,gammas,epsilons,mean,k):\n",
    "    N = alphas.shape[0]\n",
    "    Pi_new = gammas[0]/np.sum(gammas[0])\n",
    "    gammas=gammas.reshape(N,k)\n",
    "    mean_new = np.matmul(X_train.T,gammas)/np.sum(gammas,axis=0)\n",
    "    mean_new = mean_new.T\n",
    "    A_new = np.sum(epsilons,axis=0)/np.sum(np.sum(epsilons,axis=0),axis=1)\n",
    "#     print(A_new,alpha.shape)\n",
    "#     print(epsilons.shape)\n",
    "#     print(mean_new.shape)\n",
    "#     print(Pi_new.shape)\n",
    "    sigma_new=[]\n",
    "    gamma_transpose = gammas.T\n",
    "    for i in range(k):\n",
    "        sigma_like = np.matmul((X_train-mean[i]).T,(X_train-mean[i]))\n",
    "        sigma_temp = np.zeros(sigma_like.shape)\n",
    "#         print(sigma_temp)\n",
    "#         print(sigma_like.shape)\n",
    "        for j in range(0,len(gamma_transpose[i])):\n",
    "            sigma_temp += sigma_like*gamma_transpose[i][j]\n",
    "        sigma_temp = sigma_temp/np.sum(gamma_transpose[i])\n",
    "        sigma_new.append(sigma_temp)\n",
    "    sigma_new = np.array(sigma_new)\n",
    "\n",
    "    return Pi_new,A_new,sigma_new,mean_new,gammas\n",
    "\n",
    "# Main HMM function: we can control num_iters here\n",
    "def Hmm(X_train,k):\n",
    "    N,m = X_train[0].shape\n",
    "    # Initiliase: mean , sigma, A, Pi\n",
    "    mean  = np.random.rand(k,m)\n",
    "    C = []\n",
    "    for i in range(k):\n",
    "        C.append(np.identity(m))\n",
    "    sigma = np.array(C)\n",
    "\n",
    "    A = np.random.rand(k,k) \n",
    "    A_sum = np.sum(A,axis=1) # Upper trianglur initilization is not working well\n",
    "    # for i in range(k):\n",
    "    #     for j in range(k):\n",
    "    #         if i < j :\n",
    "    #             A[i][j] = 0\n",
    "    for i in range(k):\n",
    "        A[i,:] = A[i,:]/A_sum[i]\n",
    "\n",
    "    Pi = np.random.rand(1,k)\n",
    "    Pi = Pi/np.sum(Pi)\n",
    "    \n",
    "    # training\n",
    "    count = 0\n",
    "    likihoods = []\n",
    "    while(count < 60) :\n",
    "        Q = 0\n",
    "        t_P=t_A=t_sigma=t_mean=0\n",
    "        N = X_train.shape[0]\n",
    "        for l in range(N):\n",
    "            # E\n",
    "            alphas,betas,gammas,epsilons,lik = E_estimate_Parameters(X_train[l],Pi,A,mean,sigma,k)\n",
    "            # M\n",
    "            Pi_new,A_new,sigma_new,mean_new,gammas = M_update_Parameters(X_train[l],alphas,betas,gammas,epsilons,mean,k)\n",
    "            # U\n",
    "            t_P += Pi_new\n",
    "            t_A += A_new\n",
    "            t_sigma += sigma_new\n",
    "            t_mean += mean_new\n",
    "            Q += lik\n",
    "        Pi = t_P/N\n",
    "        A = t_A/N\n",
    "        sigma = t_sigma/N\n",
    "        mean = t_mean/N\n",
    "        Q = Q/N\n",
    "        if count == 0: \n",
    "            count += 1\n",
    "            continue\n",
    "        display.clear_output(wait=True)\n",
    "        print(\"[EPOCH]: %i, [LIKILIHOOD]: %.6f\" % (count, Q))\n",
    "        likihoods.append(Q)\n",
    "        count+=1\n",
    "        \n",
    "    return Pi,A,mean,sigma,likihoods,count\n"
   ]
  },
  {
   "cell_type": "markdown",
   "metadata": {},
   "source": [
    "### K = 3"
   ]
  },
  {
   "cell_type": "code",
   "execution_count": 6,
   "metadata": {},
   "outputs": [
    {
     "name": "stdout",
     "output_type": "stream",
     "text": [
      "[EPOCH]: 59, [LIKILIHOOD]: -577.772416\n"
     ]
    },
    {
     "data": {
      "text/plain": [
       "Text(0.5, 1.0, 'Likilihood')"
      ]
     },
     "execution_count": 6,
     "metadata": {},
     "output_type": "execute_result"
    },
    {
     "data": {
      "image/png": "[encoded data removed]",
      "text/plain": [
       "<Figure size 432x288 with 1 Axes>"
      ]
     },
     "metadata": {
      "needs_background": "light"
     },
     "output_type": "display_data"
    }
   ],
   "source": [
    "k = 3\n",
    "pi_1,A_1,mean_1,sigma_1,l,num_iters = Hmm(ma_train,k)\n",
    "likili = []\n",
    "for i in range(0,len(l)):\n",
    "    likili.append(l[i].item())\n",
    "q = []\n",
    "for i in range(num_iters-1):\n",
    "    q.append(i)\n",
    "plt.plot(q,likili)\n",
    "plt.title(\"Likilihood\")"
   ]
  },
  {
   "cell_type": "code",
   "execution_count": 7,
   "metadata": {},
   "outputs": [
    {
     "name": "stdout",
     "output_type": "stream",
     "text": [
      "[EPOCH]: 59, [LIKILIHOOD]: -572.278884\n"
     ]
    },
    {
     "data": {
      "text/plain": [
       "Text(0.5, 1.0, 'Likilihood')"
      ]
     },
     "execution_count": 7,
     "metadata": {},
     "output_type": "execute_result"
    },
    {
     "data": {
      "image/png": "[encoded data removed]",
      "text/plain": [
       "<Figure size 432x288 with 1 Axes>"
      ]
     },
     "metadata": {
      "needs_background": "light"
     },
     "output_type": "display_data"
    }
   ],
   "source": [
    "pi_2,A_2,mean_2,sigma_2,l,num_iters = Hmm(go_train,k)\n",
    "likili = []\n",
    "for i in range(0,len(l)):\n",
    "    likili.append(l[i].item())\n",
    "q = []\n",
    "for i in range(num_iters-1):\n",
    "    q.append(i)\n",
    "plt.plot(q,likili)\n",
    "plt.title(\"Likilihood\")"
   ]
  },
  {
   "cell_type": "code",
   "execution_count": 8,
   "metadata": {},
   "outputs": [
    {
     "name": "stdout",
     "output_type": "stream",
     "text": [
      "Accuracy with k = 3:  0.875\n"
     ]
    }
   ],
   "source": [
    "N = ma_test.shape[0]\n",
    "nums = 0\n",
    "# for ma data\n",
    "for i in range(N):\n",
    "    alphas,betas,gammas,epsilons,probs_ma = E_estimate_Parameters(ma_test[i],pi_1,A_1,mean_1,sigma_1,k)\n",
    "    Q1 = np.sum(alphas)\n",
    "    alphas,betas,gammas,epsilons,probs_ma = E_estimate_Parameters(ma_test[i],pi_2,A_2,mean_2,sigma_2,k)\n",
    "    Q2 = np.sum(alphas)\n",
    "    if Q1 >= Q2:\n",
    "        nums += 1\n",
    "    \n",
    "m = N\n",
    "N = go_test.shape[0]\n",
    "# for go data\n",
    "for i in range(N):\n",
    "    alphas,betas,gammas,epsilons,probs_ma = E_estimate_Parameters(go_test[i],pi_1,A_1,mean_1,sigma_1,k)\n",
    "    Q1 = np.sum(alphas)\n",
    "    alphas,betas,gammas,epsilons,probs_ma = E_estimate_Parameters(go_test[i],pi_2,A_2,mean_2,sigma_2,k)\n",
    "    Q2 = np.sum(alphas)\n",
    "    if Q1 <= Q2:\n",
    "        nums += 1\n",
    "\n",
    "m += N\n",
    "print(\"Accuracy with k = 3: \", nums/m)"
   ]
  },
  {
   "cell_type": "markdown",
   "metadata": {},
   "source": [
    "### K = 5"
   ]
  },
  {
   "cell_type": "code",
   "execution_count": 9,
   "metadata": {},
   "outputs": [
    {
     "name": "stdout",
     "output_type": "stream",
     "text": [
      "[EPOCH]: 59, [LIKILIHOOD]: -577.801005\n"
     ]
    },
    {
     "data": {
      "text/plain": [
       "Text(0.5, 1.0, 'Likilihood')"
      ]
     },
     "execution_count": 9,
     "metadata": {},
     "output_type": "execute_result"
    },
    {
     "data": {
      "image/png": "[encoded data removed]",
      "text/plain": [
       "<Figure size 432x288 with 1 Axes>"
      ]
     },
     "metadata": {
      "needs_background": "light"
     },
     "output_type": "display_data"
    }
   ],
   "source": [
    "k = 5\n",
    "pi_1,A_1,mean_1,sigma_1,l,num_iters = Hmm(ma_train,k)\n",
    "likili = []\n",
    "for i in range(0,len(l)):\n",
    "    likili.append(l[i].item())\n",
    "q = []\n",
    "for i in range(num_iters-1):\n",
    "    q.append(i)\n",
    "plt.plot(q,likili)\n",
    "plt.title(\"Likilihood\")"
   ]
  },
  {
   "cell_type": "code",
   "execution_count": 10,
   "metadata": {},
   "outputs": [
    {
     "name": "stdout",
     "output_type": "stream",
     "text": [
      "[EPOCH]: 59, [LIKILIHOOD]: -572.270993\n"
     ]
    },
    {
     "data": {
      "text/plain": [
       "Text(0.5, 1.0, 'Likilihood')"
      ]
     },
     "execution_count": 10,
     "metadata": {},
     "output_type": "execute_result"
    },
    {
     "data": {
      "image/png": "[encoded data removed]",
      "text/plain": [
       "<Figure size 432x288 with 1 Axes>"
      ]
     },
     "metadata": {
      "needs_background": "light"
     },
     "output_type": "display_data"
    }
   ],
   "source": [
    "pi_2,A_2,mean_2,sigma_2,l,num_iters = Hmm(go_train,k)\n",
    "likili = []\n",
    "for i in range(0,len(l)):\n",
    "    likili.append(l[i].item())\n",
    "q = []\n",
    "for i in range(num_iters-1):\n",
    "    q.append(i)\n",
    "plt.plot(q,likili)\n",
    "plt.title(\"Likilihood\")"
   ]
  },
  {
   "cell_type": "code",
   "execution_count": 11,
   "metadata": {},
   "outputs": [
    {
     "name": "stdout",
     "output_type": "stream",
     "text": [
      "Accuracy with k = 5:  0.75\n"
     ]
    }
   ],
   "source": [
    "N = ma_test.shape[0]\n",
    "nums = 0\n",
    "# for ma data\n",
    "for i in range(N):\n",
    "    alphas,betas,gammas,epsilons,probs_ma = E_estimate_Parameters(ma_test[i],pi_1,A_1,mean_1,sigma_1,k)\n",
    "    Q1 = np.sum(alphas)\n",
    "    alphas,betas,gammas,epsilons,probs_ma = E_estimate_Parameters(ma_test[i],pi_2,A_2,mean_2,sigma_2,k)\n",
    "    Q2 = np.sum(alphas)\n",
    "    if Q1 >= Q2:\n",
    "        nums += 1\n",
    "    \n",
    "m = N\n",
    "N = go_test.shape[0]\n",
    "# for go data\n",
    "for i in range(N):\n",
    "    alphas,betas,gammas,epsilons,probs_ma = E_estimate_Parameters(go_test[i],pi_1,A_1,mean_1,sigma_1,k)\n",
    "    Q1 = np.sum(alphas)\n",
    "    alphas,betas,gammas,epsilons,probs_ma = E_estimate_Parameters(go_test[i],pi_2,A_2,mean_2,sigma_2,k)\n",
    "    Q2 = np.sum(alphas)\n",
    "    if Q1 <= Q2:\n",
    "        nums += 1\n",
    "\n",
    "m += N\n",
    "print(\"Accuracy with k = 5: \", nums/m)"
   ]
  },
  {
   "cell_type": "markdown",
   "metadata": {},
   "source": [
    "### K = 7"
   ]
  },
  {
   "cell_type": "code",
   "execution_count": null,
   "metadata": {},
   "outputs": [
    {
     "name": "stdout",
     "output_type": "stream",
     "text": [
      "[EPOCH]: 40, [LIKILIHOOD]: -577.695077\n"
     ]
    }
   ],
   "source": [
    "k = 7\n",
    "pi_1,A_1,mean_1,sigma_1,l,num_iters = Hmm(ma_train,k)\n",
    "likili = []\n",
    "for i in range(0,len(l)):\n",
    "    likili.append(l[i].item())\n",
    "q = []\n",
    "for i in range(num_iters-1):\n",
    "    q.append(i)\n",
    "plt.plot(q,likili)\n",
    "plt.title(\"Likilihood\")"
   ]
  },
  {
   "cell_type": "code",
   "execution_count": null,
   "metadata": {},
   "outputs": [],
   "source": [
    "pi_2,A_2,mean_2,sigma_2,l,num_iters = Hmm(go_train,k)\n",
    "likili = []\n",
    "for i in range(0,len(l)):\n",
    "    likili.append(l[i].item())\n",
    "q = []\n",
    "for i in range(num_iters-1):\n",
    "    q.append(i)\n",
    "plt.plot(q,likili)\n",
    "plt.title(\"Likilihood\")"
   ]
  },
  {
   "cell_type": "code",
   "execution_count": null,
   "metadata": {},
   "outputs": [],
   "source": [
    "N = ma_test.shape[0]\n",
    "nums = 0\n",
    "# for ma data\n",
    "for i in range(N):\n",
    "    alphas,betas,gammas,epsilons,probs_ma = E_estimate_Parameters(ma_test[i],pi_1,A_1,mean_1,sigma_1,k)\n",
    "    Q1 = np.sum(alphas)\n",
    "    alphas,betas,gammas,epsilons,probs_ma = E_estimate_Parameters(ma_test[i],pi_2,A_2,mean_2,sigma_2,k)\n",
    "    Q2 = np.sum(alphas)\n",
    "    if Q1 >= Q2:\n",
    "        nums += 1\n",
    "    \n",
    "m = N\n",
    "N = go_test.shape[0]\n",
    "# for go data\n",
    "for i in range(N):\n",
    "    alphas,betas,gammas,epsilons,probs_ma = E_estimate_Parameters(go_test[i],pi_1,A_1,mean_1,sigma_1,k)\n",
    "    Q1 = np.sum(alphas)\n",
    "    alphas,betas,gammas,epsilons,probs_ma = E_estimate_Parameters(go_test[i],pi_2,A_2,mean_2,sigma_2,k)\n",
    "    Q2 = np.sum(alphas)\n",
    "    if Q1 <= Q2:\n",
    "        nums += 1\n",
    "\n",
    "m += N\n",
    "print(\"Accuracy with k = 7: \", nums/m)"
   ]
  },
  {
   "cell_type": "markdown",
   "metadata": {},
   "source": [
    "## Report\n",
    "\n",
    "Note_1: I think because of random initilization my accuracies are differing but if after running for more times(i noted for almost 20 times with different random initilization),I am coming to this conclusion. And i am training for 50 iterations only\n",
    "\n",
    "1) In most cases my accuracy increased with k,but in few some other accuaracy decreased with k. <br>\n",
    "2) I can't say increasing or decreasing but most of the times i got best accuaracy by k = 3,k = 7.On average k = 7 is best as sometimes k = 3 accuracy is decreasing.Where as k = 5 accuracy is always between accuraices of  k = 3 and k = 7. <br>\n",
    "\n",
    "MY avg Findings: <br>\n",
    "with k = 3: 0.65-0.82 <br>\n",
    "with k = 5: 0.62-0.85 <br>\n",
    "with k = 7: 0.65-0.86 <br>\n",
    "\n",
    "3) I feel like  k = 7 or k = 3 is best Option for this problem .It gave most stable results.From these two better to choose k = 3 as it has lesser parameters.<br>"
   ]
  },
  {
   "cell_type": "code",
   "execution_count": null,
   "metadata": {},
   "outputs": [],
   "source": []
  },
  {
   "cell_type": "code",
   "execution_count": null,
   "metadata": {},
   "outputs": [],
   "source": []
  },
  {
   "cell_type": "code",
   "execution_count": null,
   "metadata": {},
   "outputs": [],
   "source": []
  }
 ],
 "metadata": {
  "kernelspec": {
   "display_name": "Python 3",
   "language": "python",
   "name": "python3"
  },
  "language_info": {
   "codemirror_mode": {
    "name": "ipython",
    "version": 3
   },
   "file_extension": ".py",
   "mimetype": "text/x-python",
   "name": "python",
   "nbconvert_exporter": "python",
   "pygments_lexer": "ipython3",
   "version": "3.7.9"
  }
 },
 "nbformat": 4,
 "nbformat_minor": 4
}
